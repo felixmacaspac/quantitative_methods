{
 "cells": [
  {
   "cell_type": "code",
   "execution_count": 1,
   "id": "7154f6fd",
   "metadata": {},
   "outputs": [],
   "source": [
    "import pandas as pd\n",
    "import numpy as np"
   ]
  },
  {
   "cell_type": "code",
   "execution_count": 2,
   "id": "4a688429",
   "metadata": {},
   "outputs": [],
   "source": [
    "data = pd.read_csv('earthquake_dataset.csv')"
   ]
  },
  {
   "cell_type": "code",
   "execution_count": 3,
   "id": "0384372e",
   "metadata": {},
   "outputs": [
    {
     "data": {
      "text/html": [
       "<div>\n",
       "<style scoped>\n",
       "    .dataframe tbody tr th:only-of-type {\n",
       "        vertical-align: middle;\n",
       "    }\n",
       "\n",
       "    .dataframe tbody tr th {\n",
       "        vertical-align: top;\n",
       "    }\n",
       "\n",
       "    .dataframe thead th {\n",
       "        text-align: right;\n",
       "    }\n",
       "</style>\n",
       "<table border=\"1\" class=\"dataframe\">\n",
       "  <thead>\n",
       "    <tr style=\"text-align: right;\">\n",
       "      <th></th>\n",
       "      <th>Day</th>\n",
       "      <th>Month</th>\n",
       "      <th>Year</th>\n",
       "      <th>Time</th>\n",
       "      <th>Depth(km)</th>\n",
       "      <th>Magnitude</th>\n",
       "      <th>Latitude</th>\n",
       "      <th>Longitude</th>\n",
       "      <th>Distance(km)</th>\n",
       "      <th>City</th>\n",
       "      <th>Province</th>\n",
       "      <th>Zip Code</th>\n",
       "      <th>Richter Category</th>\n",
       "    </tr>\n",
       "  </thead>\n",
       "  <tbody>\n",
       "    <tr>\n",
       "      <th>0</th>\n",
       "      <td>11</td>\n",
       "      <td>6</td>\n",
       "      <td>2024</td>\n",
       "      <td>19</td>\n",
       "      <td>12</td>\n",
       "      <td>2.9</td>\n",
       "      <td>9.34</td>\n",
       "      <td>125.58</td>\n",
       "      <td>7</td>\n",
       "      <td>647</td>\n",
       "      <td>9</td>\n",
       "      <td>8607</td>\n",
       "      <td>0</td>\n",
       "    </tr>\n",
       "    <tr>\n",
       "      <th>1</th>\n",
       "      <td>10</td>\n",
       "      <td>6</td>\n",
       "      <td>2024</td>\n",
       "      <td>2318</td>\n",
       "      <td>16</td>\n",
       "      <td>4.3</td>\n",
       "      <td>4.43</td>\n",
       "      <td>127.12</td>\n",
       "      <td>216</td>\n",
       "      <td>1234</td>\n",
       "      <td>117</td>\n",
       "      <td>8015</td>\n",
       "      <td>2</td>\n",
       "    </tr>\n",
       "    <tr>\n",
       "      <th>2</th>\n",
       "      <td>10</td>\n",
       "      <td>6</td>\n",
       "      <td>2024</td>\n",
       "      <td>2317</td>\n",
       "      <td>29</td>\n",
       "      <td>2.0</td>\n",
       "      <td>11.03</td>\n",
       "      <td>124.55</td>\n",
       "      <td>14</td>\n",
       "      <td>926</td>\n",
       "      <td>97</td>\n",
       "      <td>6540</td>\n",
       "      <td>0</td>\n",
       "    </tr>\n",
       "    <tr>\n",
       "      <th>3</th>\n",
       "      <td>10</td>\n",
       "      <td>6</td>\n",
       "      <td>2024</td>\n",
       "      <td>2250</td>\n",
       "      <td>1</td>\n",
       "      <td>3.1</td>\n",
       "      <td>10.52</td>\n",
       "      <td>125.06</td>\n",
       "      <td>12</td>\n",
       "      <td>1261</td>\n",
       "      <td>173</td>\n",
       "      <td>6607</td>\n",
       "      <td>1</td>\n",
       "    </tr>\n",
       "    <tr>\n",
       "      <th>4</th>\n",
       "      <td>10</td>\n",
       "      <td>6</td>\n",
       "      <td>2024</td>\n",
       "      <td>2242</td>\n",
       "      <td>68</td>\n",
       "      <td>3.9</td>\n",
       "      <td>5.74</td>\n",
       "      <td>126.45</td>\n",
       "      <td>92</td>\n",
       "      <td>664</td>\n",
       "      <td>59</td>\n",
       "      <td>8014</td>\n",
       "      <td>1</td>\n",
       "    </tr>\n",
       "  </tbody>\n",
       "</table>\n",
       "</div>"
      ],
      "text/plain": [
       "   Day  Month  Year  Time  Depth(km)  Magnitude  Latitude  Longitude  \\\n",
       "0   11      6  2024    19         12        2.9      9.34     125.58   \n",
       "1   10      6  2024  2318         16        4.3      4.43     127.12   \n",
       "2   10      6  2024  2317         29        2.0     11.03     124.55   \n",
       "3   10      6  2024  2250          1        3.1     10.52     125.06   \n",
       "4   10      6  2024  2242         68        3.9      5.74     126.45   \n",
       "\n",
       "   Distance(km)  City  Province  Zip Code  Richter Category  \n",
       "0             7   647         9      8607                 0  \n",
       "1           216  1234       117      8015                 2  \n",
       "2            14   926        97      6540                 0  \n",
       "3            12  1261       173      6607                 1  \n",
       "4            92   664        59      8014                 1  "
      ]
     },
     "execution_count": 3,
     "metadata": {},
     "output_type": "execute_result"
    }
   ],
   "source": [
    "data.head()"
   ]
  },
  {
   "cell_type": "code",
   "execution_count": 13,
   "id": "11b67f96",
   "metadata": {},
   "outputs": [
    {
     "data": {
      "image/png": "[encoded data removed]",
      "text/plain": [
       "<Figure size 640x480 with 1 Axes>"
      ]
     },
     "metadata": {},
     "output_type": "display_data"
    }
   ],
   "source": [
    "import matplotlib.pyplot as plt\n",
    "\n",
    "data['Year'].hist()  # Adjust bins as needed for better visualization\n",
    "plt.xlabel('Values')\n",
    "plt.ylabel('Frequency')\n",
    "plt.title('Distribution of values')\n",
    "plt.grid(True)\n",
    "plt.show()"
   ]
  },
  {
   "cell_type": "code",
   "execution_count": 22,
   "id": "c838415d",
   "metadata": {},
   "outputs": [
    {
     "data": {
      "text/plain": [
       "58.0"
      ]
     },
     "execution_count": 22,
     "metadata": {},
     "output_type": "execute_result"
    }
   ],
   "source": [
    "data[data['Magnitude'] > 5.0].shape[0] / len(data['Year'].unique())"
   ]
  },
  {
   "cell_type": "code",
   "execution_count": 23,
   "id": "15736854",
   "metadata": {},
   "outputs": [
    {
     "data": {
      "text/plain": [
       "12144.142857142857"
      ]
     },
     "execution_count": 23,
     "metadata": {},
     "output_type": "execute_result"
    }
   ],
   "source": [
    "data.shape[0] / len(data['Year'].unique())"
   ]
  }
 ],
 "metadata": {
  "kernelspec": {
   "display_name": "Python 3 (ipykernel)",
   "language": "python",
   "name": "python3"
  },
  "language_info": {
   "codemirror_mode": {
    "name": "ipython",
    "version": 3
   },
   "file_extension": ".py",
   "mimetype": "text/x-python",
   "name": "python",
   "nbconvert_exporter": "python",
   "pygments_lexer": "ipython3",
   "version": "3.11.7"
  }
 },
 "nbformat": 4,
 "nbformat_minor": 5
}
