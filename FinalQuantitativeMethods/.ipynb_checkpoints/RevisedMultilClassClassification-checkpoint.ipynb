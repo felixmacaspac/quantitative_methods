{
 "cells": [
  {
   "cell_type": "code",
   "execution_count": 1,
   "id": "5e6c7694",
   "metadata": {},
   "outputs": [],
   "source": [
    "import pandas as pd\n",
    "import numpy as np"
   ]
  },
  {
   "cell_type": "code",
   "execution_count": 2,
   "id": "32d9a7f9",
   "metadata": {},
   "outputs": [],
   "source": [
    "data = pd.read_csv('earthquake_dataset.csv');"
   ]
  },
  {
   "cell_type": "code",
   "execution_count": 3,
   "id": "4551cf5f",
   "metadata": {},
   "outputs": [
    {
     "data": {
      "text/html": [
       "<div>\n",
       "<style scoped>\n",
       "    .dataframe tbody tr th:only-of-type {\n",
       "        vertical-align: middle;\n",
       "    }\n",
       "\n",
       "    .dataframe tbody tr th {\n",
       "        vertical-align: top;\n",
       "    }\n",
       "\n",
       "    .dataframe thead th {\n",
       "        text-align: right;\n",
       "    }\n",
       "</style>\n",
       "<table border=\"1\" class=\"dataframe\">\n",
       "  <thead>\n",
       "    <tr style=\"text-align: right;\">\n",
       "      <th></th>\n",
       "      <th>Day</th>\n",
       "      <th>Month</th>\n",
       "      <th>Year</th>\n",
       "      <th>Time</th>\n",
       "      <th>Depth(km)</th>\n",
       "      <th>Magnitude</th>\n",
       "      <th>Latitude</th>\n",
       "      <th>Longitude</th>\n",
       "      <th>Distance(km)</th>\n",
       "      <th>City</th>\n",
       "      <th>Province</th>\n",
       "      <th>Zip Code</th>\n",
       "    </tr>\n",
       "  </thead>\n",
       "  <tbody>\n",
       "    <tr>\n",
       "      <th>0</th>\n",
       "      <td>11</td>\n",
       "      <td>6</td>\n",
       "      <td>2024</td>\n",
       "      <td>19</td>\n",
       "      <td>12</td>\n",
       "      <td>2.9</td>\n",
       "      <td>9.34</td>\n",
       "      <td>125.58</td>\n",
       "      <td>7</td>\n",
       "      <td>Jabonga</td>\n",
       "      <td>Agusan Del Norte</td>\n",
       "      <td>8607</td>\n",
       "    </tr>\n",
       "    <tr>\n",
       "      <th>1</th>\n",
       "      <td>10</td>\n",
       "      <td>6</td>\n",
       "      <td>2024</td>\n",
       "      <td>2318</td>\n",
       "      <td>16</td>\n",
       "      <td>4.3</td>\n",
       "      <td>4.43</td>\n",
       "      <td>127.12</td>\n",
       "      <td>216</td>\n",
       "      <td>Sarangani Island</td>\n",
       "      <td>Municipality Of Sarangani</td>\n",
       "      <td>8015</td>\n",
       "    </tr>\n",
       "    <tr>\n",
       "      <th>2</th>\n",
       "      <td>10</td>\n",
       "      <td>6</td>\n",
       "      <td>2024</td>\n",
       "      <td>2317</td>\n",
       "      <td>29</td>\n",
       "      <td>2.0</td>\n",
       "      <td>11.03</td>\n",
       "      <td>124.55</td>\n",
       "      <td>14</td>\n",
       "      <td>Merida</td>\n",
       "      <td>Leyte</td>\n",
       "      <td>6540</td>\n",
       "    </tr>\n",
       "    <tr>\n",
       "      <th>3</th>\n",
       "      <td>10</td>\n",
       "      <td>6</td>\n",
       "      <td>2024</td>\n",
       "      <td>2250</td>\n",
       "      <td>1</td>\n",
       "      <td>3.1</td>\n",
       "      <td>10.52</td>\n",
       "      <td>125.06</td>\n",
       "      <td>12</td>\n",
       "      <td>Silago</td>\n",
       "      <td>Southern Leyte</td>\n",
       "      <td>6607</td>\n",
       "    </tr>\n",
       "    <tr>\n",
       "      <th>4</th>\n",
       "      <td>10</td>\n",
       "      <td>6</td>\n",
       "      <td>2024</td>\n",
       "      <td>2242</td>\n",
       "      <td>68</td>\n",
       "      <td>3.9</td>\n",
       "      <td>5.74</td>\n",
       "      <td>126.45</td>\n",
       "      <td>92</td>\n",
       "      <td>Jose Abad Santos</td>\n",
       "      <td>Davao Occidental</td>\n",
       "      <td>8014</td>\n",
       "    </tr>\n",
       "  </tbody>\n",
       "</table>\n",
       "</div>"
      ],
      "text/plain": [
       "   Day  Month  Year  Time  Depth(km)  Magnitude  Latitude  Longitude  \\\n",
       "0   11      6  2024    19         12        2.9      9.34     125.58   \n",
       "1   10      6  2024  2318         16        4.3      4.43     127.12   \n",
       "2   10      6  2024  2317         29        2.0     11.03     124.55   \n",
       "3   10      6  2024  2250          1        3.1     10.52     125.06   \n",
       "4   10      6  2024  2242         68        3.9      5.74     126.45   \n",
       "\n",
       "   Distance(km)                City                   Province  Zip Code  \n",
       "0             7            Jabonga            Agusan Del Norte      8607  \n",
       "1           216   Sarangani Island   Municipality Of Sarangani      8015  \n",
       "2            14             Merida                       Leyte      6540  \n",
       "3            12             Silago              Southern Leyte      6607  \n",
       "4            92   Jose Abad Santos            Davao Occidental      8014  "
      ]
     },
     "execution_count": 3,
     "metadata": {},
     "output_type": "execute_result"
    }
   ],
   "source": [
    "data.head()"
   ]
  },
  {
   "cell_type": "code",
   "execution_count": 4,
   "id": "8b9a0a69",
   "metadata": {},
   "outputs": [
    {
     "name": "stdout",
     "output_type": "stream",
     "text": [
      "<class 'pandas.core.frame.DataFrame'>\n",
      "RangeIndex: 85009 entries, 0 to 85008\n",
      "Data columns (total 12 columns):\n",
      " #   Column        Non-Null Count  Dtype  \n",
      "---  ------        --------------  -----  \n",
      " 0   Day           85009 non-null  int64  \n",
      " 1   Month         85009 non-null  int64  \n",
      " 2   Year          85009 non-null  int64  \n",
      " 3   Time          85009 non-null  int64  \n",
      " 4   Depth(km)     85009 non-null  int64  \n",
      " 5   Magnitude     85009 non-null  float64\n",
      " 6   Latitude      85009 non-null  float64\n",
      " 7   Longitude     85009 non-null  float64\n",
      " 8   Distance(km)  85009 non-null  int64  \n",
      " 9   City          85009 non-null  object \n",
      " 10  Province      85009 non-null  object \n",
      " 11  Zip Code      85009 non-null  int64  \n",
      "dtypes: float64(3), int64(7), object(2)\n",
      "memory usage: 7.8+ MB\n"
     ]
    }
   ],
   "source": [
    "data.info()"
   ]
  },
  {
   "cell_type": "markdown",
   "id": "f45b3338",
   "metadata": {},
   "source": [
    "We seem to have  object datatypes we need to convert this to their actual expected datatypes"
   ]
  },
  {
   "cell_type": "code",
   "execution_count": 5,
   "id": "94367c03",
   "metadata": {},
   "outputs": [
    {
     "data": {
      "text/plain": [
       "(85009, 12)"
      ]
     },
     "execution_count": 5,
     "metadata": {},
     "output_type": "execute_result"
    }
   ],
   "source": [
    "data.shape"
   ]
  },
  {
   "cell_type": "code",
   "execution_count": 6,
   "id": "bbad37c5",
   "metadata": {},
   "outputs": [
    {
     "data": {
      "text/plain": [
       "Day               int64\n",
       "Month             int64\n",
       "Year              int64\n",
       "Time              int64\n",
       "Depth(km)         int64\n",
       "Magnitude       float64\n",
       "Latitude        float64\n",
       "Longitude       float64\n",
       "Distance(km)      int64\n",
       "City             object\n",
       "Province         object\n",
       "Zip Code          int64\n",
       "dtype: object"
      ]
     },
     "execution_count": 6,
     "metadata": {},
     "output_type": "execute_result"
    }
   ],
   "source": [
    "data.dtypes"
   ]
  },
  {
   "cell_type": "code",
   "execution_count": 7,
   "id": "5711685e",
   "metadata": {},
   "outputs": [
    {
     "data": {
      "text/plain": [
       "Day             0\n",
       "Month           0\n",
       "Year            0\n",
       "Time            0\n",
       "Depth(km)       0\n",
       "Magnitude       0\n",
       "Latitude        0\n",
       "Longitude       0\n",
       "Distance(km)    0\n",
       "City            0\n",
       "Province        0\n",
       "Zip Code        0\n",
       "dtype: int64"
      ]
     },
     "execution_count": 7,
     "metadata": {},
     "output_type": "execute_result"
    }
   ],
   "source": [
    "data.isnull().sum()"
   ]
  },
  {
   "cell_type": "code",
   "execution_count": 8,
   "id": "2444945c",
   "metadata": {},
   "outputs": [
    {
     "data": {
      "text/plain": [
       "Day               int64\n",
       "Month             int64\n",
       "Year              int64\n",
       "Time              int64\n",
       "Depth(km)         int64\n",
       "Magnitude       float64\n",
       "Latitude        float64\n",
       "Longitude       float64\n",
       "Distance(km)      int64\n",
       "City              int32\n",
       "Province          int32\n",
       "Zip Code          int64\n",
       "dtype: object"
      ]
     },
     "execution_count": 8,
     "metadata": {},
     "output_type": "execute_result"
    }
   ],
   "source": [
    "from sklearn.preprocessing import LabelEncoder\n",
    "categorical_features = ['City', 'Province']\n",
    "for feature in categorical_features:\n",
    "    encoder = LabelEncoder()\n",
    "    data[feature] = encoder.fit_transform(data[feature])\n",
    "data.dtypes"
   ]
  },
  {
   "cell_type": "code",
   "execution_count": 9,
   "id": "cfbea07f",
   "metadata": {},
   "outputs": [
    {
     "data": {
      "text/html": [
       "<div>\n",
       "<style scoped>\n",
       "    .dataframe tbody tr th:only-of-type {\n",
       "        vertical-align: middle;\n",
       "    }\n",
       "\n",
       "    .dataframe tbody tr th {\n",
       "        vertical-align: top;\n",
       "    }\n",
       "\n",
       "    .dataframe thead th {\n",
       "        text-align: right;\n",
       "    }\n",
       "</style>\n",
       "<table border=\"1\" class=\"dataframe\">\n",
       "  <thead>\n",
       "    <tr style=\"text-align: right;\">\n",
       "      <th></th>\n",
       "      <th>Day</th>\n",
       "      <th>Month</th>\n",
       "      <th>Year</th>\n",
       "      <th>Time</th>\n",
       "      <th>Depth(km)</th>\n",
       "      <th>Magnitude</th>\n",
       "      <th>Latitude</th>\n",
       "      <th>Longitude</th>\n",
       "      <th>Distance(km)</th>\n",
       "      <th>City</th>\n",
       "      <th>Province</th>\n",
       "      <th>Zip Code</th>\n",
       "    </tr>\n",
       "  </thead>\n",
       "  <tbody>\n",
       "    <tr>\n",
       "      <th>0</th>\n",
       "      <td>11</td>\n",
       "      <td>6</td>\n",
       "      <td>2024</td>\n",
       "      <td>19</td>\n",
       "      <td>12</td>\n",
       "      <td>2.9</td>\n",
       "      <td>9.34</td>\n",
       "      <td>125.58</td>\n",
       "      <td>7</td>\n",
       "      <td>647</td>\n",
       "      <td>9</td>\n",
       "      <td>8607</td>\n",
       "    </tr>\n",
       "    <tr>\n",
       "      <th>1</th>\n",
       "      <td>10</td>\n",
       "      <td>6</td>\n",
       "      <td>2024</td>\n",
       "      <td>2318</td>\n",
       "      <td>16</td>\n",
       "      <td>4.3</td>\n",
       "      <td>4.43</td>\n",
       "      <td>127.12</td>\n",
       "      <td>216</td>\n",
       "      <td>1234</td>\n",
       "      <td>117</td>\n",
       "      <td>8015</td>\n",
       "    </tr>\n",
       "    <tr>\n",
       "      <th>2</th>\n",
       "      <td>10</td>\n",
       "      <td>6</td>\n",
       "      <td>2024</td>\n",
       "      <td>2317</td>\n",
       "      <td>29</td>\n",
       "      <td>2.0</td>\n",
       "      <td>11.03</td>\n",
       "      <td>124.55</td>\n",
       "      <td>14</td>\n",
       "      <td>926</td>\n",
       "      <td>97</td>\n",
       "      <td>6540</td>\n",
       "    </tr>\n",
       "    <tr>\n",
       "      <th>3</th>\n",
       "      <td>10</td>\n",
       "      <td>6</td>\n",
       "      <td>2024</td>\n",
       "      <td>2250</td>\n",
       "      <td>1</td>\n",
       "      <td>3.1</td>\n",
       "      <td>10.52</td>\n",
       "      <td>125.06</td>\n",
       "      <td>12</td>\n",
       "      <td>1261</td>\n",
       "      <td>173</td>\n",
       "      <td>6607</td>\n",
       "    </tr>\n",
       "    <tr>\n",
       "      <th>4</th>\n",
       "      <td>10</td>\n",
       "      <td>6</td>\n",
       "      <td>2024</td>\n",
       "      <td>2242</td>\n",
       "      <td>68</td>\n",
       "      <td>3.9</td>\n",
       "      <td>5.74</td>\n",
       "      <td>126.45</td>\n",
       "      <td>92</td>\n",
       "      <td>664</td>\n",
       "      <td>59</td>\n",
       "      <td>8014</td>\n",
       "    </tr>\n",
       "  </tbody>\n",
       "</table>\n",
       "</div>"
      ],
      "text/plain": [
       "   Day  Month  Year  Time  Depth(km)  Magnitude  Latitude  Longitude  \\\n",
       "0   11      6  2024    19         12        2.9      9.34     125.58   \n",
       "1   10      6  2024  2318         16        4.3      4.43     127.12   \n",
       "2   10      6  2024  2317         29        2.0     11.03     124.55   \n",
       "3   10      6  2024  2250          1        3.1     10.52     125.06   \n",
       "4   10      6  2024  2242         68        3.9      5.74     126.45   \n",
       "\n",
       "   Distance(km)  City  Province  Zip Code  \n",
       "0             7   647         9      8607  \n",
       "1           216  1234       117      8015  \n",
       "2            14   926        97      6540  \n",
       "3            12  1261       173      6607  \n",
       "4            92   664        59      8014  "
      ]
     },
     "execution_count": 9,
     "metadata": {},
     "output_type": "execute_result"
    }
   ],
   "source": [
    "data.head()"
   ]
  },
  {
   "cell_type": "code",
   "execution_count": 10,
   "id": "3f0fc5e7",
   "metadata": {},
   "outputs": [
    {
     "data": {
      "text/html": [
       "<div>\n",
       "<style scoped>\n",
       "    .dataframe tbody tr th:only-of-type {\n",
       "        vertical-align: middle;\n",
       "    }\n",
       "\n",
       "    .dataframe tbody tr th {\n",
       "        vertical-align: top;\n",
       "    }\n",
       "\n",
       "    .dataframe thead th {\n",
       "        text-align: right;\n",
       "    }\n",
       "</style>\n",
       "<table border=\"1\" class=\"dataframe\">\n",
       "  <thead>\n",
       "    <tr style=\"text-align: right;\">\n",
       "      <th></th>\n",
       "      <th>Day</th>\n",
       "      <th>Month</th>\n",
       "      <th>Year</th>\n",
       "      <th>Time</th>\n",
       "      <th>Depth(km)</th>\n",
       "      <th>Magnitude</th>\n",
       "      <th>Latitude</th>\n",
       "      <th>Longitude</th>\n",
       "      <th>Distance(km)</th>\n",
       "      <th>City</th>\n",
       "      <th>Province</th>\n",
       "      <th>Zip Code</th>\n",
       "    </tr>\n",
       "  </thead>\n",
       "  <tbody>\n",
       "    <tr>\n",
       "      <th>count</th>\n",
       "      <td>85009.000000</td>\n",
       "      <td>85009.000000</td>\n",
       "      <td>85009.000000</td>\n",
       "      <td>85009.000000</td>\n",
       "      <td>85009.000000</td>\n",
       "      <td>85009.000000</td>\n",
       "      <td>85009.000000</td>\n",
       "      <td>85009.000000</td>\n",
       "      <td>85009.000000</td>\n",
       "      <td>85009.000000</td>\n",
       "      <td>85009.000000</td>\n",
       "      <td>85009.00000</td>\n",
       "    </tr>\n",
       "    <tr>\n",
       "      <th>mean</th>\n",
       "      <td>15.522721</td>\n",
       "      <td>6.495383</td>\n",
       "      <td>2021.171217</td>\n",
       "      <td>1122.734252</td>\n",
       "      <td>30.574692</td>\n",
       "      <td>2.552880</td>\n",
       "      <td>10.896548</td>\n",
       "      <td>123.997866</td>\n",
       "      <td>36.772777</td>\n",
       "      <td>711.228740</td>\n",
       "      <td>103.500135</td>\n",
       "      <td>5653.45234</td>\n",
       "    </tr>\n",
       "    <tr>\n",
       "      <th>std</th>\n",
       "      <td>8.755703</td>\n",
       "      <td>3.580135</td>\n",
       "      <td>1.806742</td>\n",
       "      <td>775.162512</td>\n",
       "      <td>38.783289</td>\n",
       "      <td>0.694044</td>\n",
       "      <td>4.107527</td>\n",
       "      <td>2.620072</td>\n",
       "      <td>48.267005</td>\n",
       "      <td>369.973025</td>\n",
       "      <td>61.030410</td>\n",
       "      <td>2783.27892</td>\n",
       "    </tr>\n",
       "    <tr>\n",
       "      <th>min</th>\n",
       "      <td>1.000000</td>\n",
       "      <td>1.000000</td>\n",
       "      <td>2018.000000</td>\n",
       "      <td>0.000000</td>\n",
       "      <td>0.000000</td>\n",
       "      <td>1.000000</td>\n",
       "      <td>1.780000</td>\n",
       "      <td>10.560000</td>\n",
       "      <td>0.000000</td>\n",
       "      <td>0.000000</td>\n",
       "      <td>0.000000</td>\n",
       "      <td>0.00000</td>\n",
       "    </tr>\n",
       "    <tr>\n",
       "      <th>25%</th>\n",
       "      <td>8.000000</td>\n",
       "      <td>3.000000</td>\n",
       "      <td>2020.000000</td>\n",
       "      <td>401.000000</td>\n",
       "      <td>9.000000</td>\n",
       "      <td>2.100000</td>\n",
       "      <td>7.700000</td>\n",
       "      <td>121.150000</td>\n",
       "      <td>10.000000</td>\n",
       "      <td>409.000000</td>\n",
       "      <td>56.000000</td>\n",
       "      <td>3205.00000</td>\n",
       "    </tr>\n",
       "    <tr>\n",
       "      <th>50%</th>\n",
       "      <td>15.000000</td>\n",
       "      <td>6.000000</td>\n",
       "      <td>2021.000000</td>\n",
       "      <td>1046.000000</td>\n",
       "      <td>21.000000</td>\n",
       "      <td>2.400000</td>\n",
       "      <td>9.860000</td>\n",
       "      <td>124.950000</td>\n",
       "      <td>19.000000</td>\n",
       "      <td>651.000000</td>\n",
       "      <td>88.000000</td>\n",
       "      <td>6113.00000</td>\n",
       "    </tr>\n",
       "    <tr>\n",
       "      <th>75%</th>\n",
       "      <td>23.000000</td>\n",
       "      <td>10.000000</td>\n",
       "      <td>2023.000000</td>\n",
       "      <td>1902.000000</td>\n",
       "      <td>33.000000</td>\n",
       "      <td>2.900000</td>\n",
       "      <td>13.870000</td>\n",
       "      <td>126.260000</td>\n",
       "      <td>44.000000</td>\n",
       "      <td>1000.000000</td>\n",
       "      <td>179.000000</td>\n",
       "      <td>8306.00000</td>\n",
       "    </tr>\n",
       "    <tr>\n",
       "      <th>max</th>\n",
       "      <td>31.000000</td>\n",
       "      <td>12.000000</td>\n",
       "      <td>2024.000000</td>\n",
       "      <td>2359.000000</td>\n",
       "      <td>1068.000000</td>\n",
       "      <td>7.500000</td>\n",
       "      <td>23.800000</td>\n",
       "      <td>163.630000</td>\n",
       "      <td>779.000000</td>\n",
       "      <td>1592.000000</td>\n",
       "      <td>200.000000</td>\n",
       "      <td>9811.00000</td>\n",
       "    </tr>\n",
       "  </tbody>\n",
       "</table>\n",
       "</div>"
      ],
      "text/plain": [
       "                Day         Month          Year          Time     Depth(km)  \\\n",
       "count  85009.000000  85009.000000  85009.000000  85009.000000  85009.000000   \n",
       "mean      15.522721      6.495383   2021.171217   1122.734252     30.574692   \n",
       "std        8.755703      3.580135      1.806742    775.162512     38.783289   \n",
       "min        1.000000      1.000000   2018.000000      0.000000      0.000000   \n",
       "25%        8.000000      3.000000   2020.000000    401.000000      9.000000   \n",
       "50%       15.000000      6.000000   2021.000000   1046.000000     21.000000   \n",
       "75%       23.000000     10.000000   2023.000000   1902.000000     33.000000   \n",
       "max       31.000000     12.000000   2024.000000   2359.000000   1068.000000   \n",
       "\n",
       "          Magnitude      Latitude     Longitude  Distance(km)          City  \\\n",
       "count  85009.000000  85009.000000  85009.000000  85009.000000  85009.000000   \n",
       "mean       2.552880     10.896548    123.997866     36.772777    711.228740   \n",
       "std        0.694044      4.107527      2.620072     48.267005    369.973025   \n",
       "min        1.000000      1.780000     10.560000      0.000000      0.000000   \n",
       "25%        2.100000      7.700000    121.150000     10.000000    409.000000   \n",
       "50%        2.400000      9.860000    124.950000     19.000000    651.000000   \n",
       "75%        2.900000     13.870000    126.260000     44.000000   1000.000000   \n",
       "max        7.500000     23.800000    163.630000    779.000000   1592.000000   \n",
       "\n",
       "           Province     Zip Code  \n",
       "count  85009.000000  85009.00000  \n",
       "mean     103.500135   5653.45234  \n",
       "std       61.030410   2783.27892  \n",
       "min        0.000000      0.00000  \n",
       "25%       56.000000   3205.00000  \n",
       "50%       88.000000   6113.00000  \n",
       "75%      179.000000   8306.00000  \n",
       "max      200.000000   9811.00000  "
      ]
     },
     "execution_count": 10,
     "metadata": {},
     "output_type": "execute_result"
    }
   ],
   "source": [
    "data.describe()"
   ]
  },
  {
   "cell_type": "code",
   "execution_count": 11,
   "id": "fda25493",
   "metadata": {},
   "outputs": [
    {
     "data": {
      "text/html": [
       "<div>\n",
       "<style scoped>\n",
       "    .dataframe tbody tr th:only-of-type {\n",
       "        vertical-align: middle;\n",
       "    }\n",
       "\n",
       "    .dataframe tbody tr th {\n",
       "        vertical-align: top;\n",
       "    }\n",
       "\n",
       "    .dataframe thead th {\n",
       "        text-align: right;\n",
       "    }\n",
       "</style>\n",
       "<table border=\"1\" class=\"dataframe\">\n",
       "  <thead>\n",
       "    <tr style=\"text-align: right;\">\n",
       "      <th></th>\n",
       "      <th>Day</th>\n",
       "      <th>Month</th>\n",
       "      <th>Year</th>\n",
       "      <th>Time</th>\n",
       "      <th>Depth(km)</th>\n",
       "      <th>Magnitude</th>\n",
       "      <th>Latitude</th>\n",
       "      <th>Longitude</th>\n",
       "      <th>Distance(km)</th>\n",
       "      <th>City</th>\n",
       "      <th>Province</th>\n",
       "      <th>Zip Code</th>\n",
       "      <th>Richter Category</th>\n",
       "    </tr>\n",
       "  </thead>\n",
       "  <tbody>\n",
       "    <tr>\n",
       "      <th>0</th>\n",
       "      <td>11</td>\n",
       "      <td>6</td>\n",
       "      <td>2024</td>\n",
       "      <td>19</td>\n",
       "      <td>12</td>\n",
       "      <td>2.9</td>\n",
       "      <td>9.34</td>\n",
       "      <td>125.58</td>\n",
       "      <td>7</td>\n",
       "      <td>647</td>\n",
       "      <td>9</td>\n",
       "      <td>8607</td>\n",
       "      <td>0</td>\n",
       "    </tr>\n",
       "    <tr>\n",
       "      <th>1</th>\n",
       "      <td>10</td>\n",
       "      <td>6</td>\n",
       "      <td>2024</td>\n",
       "      <td>2318</td>\n",
       "      <td>16</td>\n",
       "      <td>4.3</td>\n",
       "      <td>4.43</td>\n",
       "      <td>127.12</td>\n",
       "      <td>216</td>\n",
       "      <td>1234</td>\n",
       "      <td>117</td>\n",
       "      <td>8015</td>\n",
       "      <td>0</td>\n",
       "    </tr>\n",
       "    <tr>\n",
       "      <th>2</th>\n",
       "      <td>10</td>\n",
       "      <td>6</td>\n",
       "      <td>2024</td>\n",
       "      <td>2317</td>\n",
       "      <td>29</td>\n",
       "      <td>2.0</td>\n",
       "      <td>11.03</td>\n",
       "      <td>124.55</td>\n",
       "      <td>14</td>\n",
       "      <td>926</td>\n",
       "      <td>97</td>\n",
       "      <td>6540</td>\n",
       "      <td>0</td>\n",
       "    </tr>\n",
       "    <tr>\n",
       "      <th>3</th>\n",
       "      <td>10</td>\n",
       "      <td>6</td>\n",
       "      <td>2024</td>\n",
       "      <td>2250</td>\n",
       "      <td>1</td>\n",
       "      <td>3.1</td>\n",
       "      <td>10.52</td>\n",
       "      <td>125.06</td>\n",
       "      <td>12</td>\n",
       "      <td>1261</td>\n",
       "      <td>173</td>\n",
       "      <td>6607</td>\n",
       "      <td>0</td>\n",
       "    </tr>\n",
       "    <tr>\n",
       "      <th>4</th>\n",
       "      <td>10</td>\n",
       "      <td>6</td>\n",
       "      <td>2024</td>\n",
       "      <td>2242</td>\n",
       "      <td>68</td>\n",
       "      <td>3.9</td>\n",
       "      <td>5.74</td>\n",
       "      <td>126.45</td>\n",
       "      <td>92</td>\n",
       "      <td>664</td>\n",
       "      <td>59</td>\n",
       "      <td>8014</td>\n",
       "      <td>0</td>\n",
       "    </tr>\n",
       "  </tbody>\n",
       "</table>\n",
       "</div>"
      ],
      "text/plain": [
       "   Day  Month  Year  Time  Depth(km)  Magnitude  Latitude  Longitude  \\\n",
       "0   11      6  2024    19         12        2.9      9.34     125.58   \n",
       "1   10      6  2024  2318         16        4.3      4.43     127.12   \n",
       "2   10      6  2024  2317         29        2.0     11.03     124.55   \n",
       "3   10      6  2024  2250          1        3.1     10.52     125.06   \n",
       "4   10      6  2024  2242         68        3.9      5.74     126.45   \n",
       "\n",
       "   Distance(km)  City  Province  Zip Code  Richter Category  \n",
       "0             7   647         9      8607                 0  \n",
       "1           216  1234       117      8015                 0  \n",
       "2            14   926        97      6540                 0  \n",
       "3            12  1261       173      6607                 0  \n",
       "4            92   664        59      8014                 0  "
      ]
     },
     "execution_count": 11,
     "metadata": {},
     "output_type": "execute_result"
    }
   ],
   "source": [
    "data['Richter Category'] = 0\n",
    "data.head()"
   ]
  },
  {
   "cell_type": "code",
   "execution_count": 12,
   "id": "9ef547ec",
   "metadata": {},
   "outputs": [],
   "source": [
    "def getRichter(magnitude):\n",
    "    if (magnitude <= 2.9):\n",
    "        return 0\n",
    "    elif (magnitude <= 3.9):\n",
    "        return 1\n",
    "    elif (magnitude <= 4.9):\n",
    "        return 2\n",
    "    elif (magnitude <= 5.9):\n",
    "        return 3\n",
    "    elif (magnitude <= 6.9):\n",
    "        return 4\n",
    "    elif (magnitude <= 7.9):\n",
    "        return 5\n",
    "    else:\n",
    "        return 6"
   ]
  },
  {
   "cell_type": "code",
   "execution_count": 13,
   "id": "d9ee5a1e",
   "metadata": {},
   "outputs": [
    {
     "data": {
      "text/html": [
       "<div>\n",
       "<style scoped>\n",
       "    .dataframe tbody tr th:only-of-type {\n",
       "        vertical-align: middle;\n",
       "    }\n",
       "\n",
       "    .dataframe tbody tr th {\n",
       "        vertical-align: top;\n",
       "    }\n",
       "\n",
       "    .dataframe thead th {\n",
       "        text-align: right;\n",
       "    }\n",
       "</style>\n",
       "<table border=\"1\" class=\"dataframe\">\n",
       "  <thead>\n",
       "    <tr style=\"text-align: right;\">\n",
       "      <th></th>\n",
       "      <th>Day</th>\n",
       "      <th>Month</th>\n",
       "      <th>Year</th>\n",
       "      <th>Time</th>\n",
       "      <th>Depth(km)</th>\n",
       "      <th>Magnitude</th>\n",
       "      <th>Latitude</th>\n",
       "      <th>Longitude</th>\n",
       "      <th>Distance(km)</th>\n",
       "      <th>City</th>\n",
       "      <th>Province</th>\n",
       "      <th>Zip Code</th>\n",
       "      <th>Richter Category</th>\n",
       "    </tr>\n",
       "  </thead>\n",
       "  <tbody>\n",
       "    <tr>\n",
       "      <th>0</th>\n",
       "      <td>11</td>\n",
       "      <td>6</td>\n",
       "      <td>2024</td>\n",
       "      <td>19</td>\n",
       "      <td>12</td>\n",
       "      <td>2.9</td>\n",
       "      <td>9.34</td>\n",
       "      <td>125.58</td>\n",
       "      <td>7</td>\n",
       "      <td>647</td>\n",
       "      <td>9</td>\n",
       "      <td>8607</td>\n",
       "      <td>0</td>\n",
       "    </tr>\n",
       "    <tr>\n",
       "      <th>1</th>\n",
       "      <td>10</td>\n",
       "      <td>6</td>\n",
       "      <td>2024</td>\n",
       "      <td>2318</td>\n",
       "      <td>16</td>\n",
       "      <td>4.3</td>\n",
       "      <td>4.43</td>\n",
       "      <td>127.12</td>\n",
       "      <td>216</td>\n",
       "      <td>1234</td>\n",
       "      <td>117</td>\n",
       "      <td>8015</td>\n",
       "      <td>2</td>\n",
       "    </tr>\n",
       "    <tr>\n",
       "      <th>2</th>\n",
       "      <td>10</td>\n",
       "      <td>6</td>\n",
       "      <td>2024</td>\n",
       "      <td>2317</td>\n",
       "      <td>29</td>\n",
       "      <td>2.0</td>\n",
       "      <td>11.03</td>\n",
       "      <td>124.55</td>\n",
       "      <td>14</td>\n",
       "      <td>926</td>\n",
       "      <td>97</td>\n",
       "      <td>6540</td>\n",
       "      <td>0</td>\n",
       "    </tr>\n",
       "    <tr>\n",
       "      <th>3</th>\n",
       "      <td>10</td>\n",
       "      <td>6</td>\n",
       "      <td>2024</td>\n",
       "      <td>2250</td>\n",
       "      <td>1</td>\n",
       "      <td>3.1</td>\n",
       "      <td>10.52</td>\n",
       "      <td>125.06</td>\n",
       "      <td>12</td>\n",
       "      <td>1261</td>\n",
       "      <td>173</td>\n",
       "      <td>6607</td>\n",
       "      <td>1</td>\n",
       "    </tr>\n",
       "    <tr>\n",
       "      <th>4</th>\n",
       "      <td>10</td>\n",
       "      <td>6</td>\n",
       "      <td>2024</td>\n",
       "      <td>2242</td>\n",
       "      <td>68</td>\n",
       "      <td>3.9</td>\n",
       "      <td>5.74</td>\n",
       "      <td>126.45</td>\n",
       "      <td>92</td>\n",
       "      <td>664</td>\n",
       "      <td>59</td>\n",
       "      <td>8014</td>\n",
       "      <td>1</td>\n",
       "    </tr>\n",
       "  </tbody>\n",
       "</table>\n",
       "</div>"
      ],
      "text/plain": [
       "   Day  Month  Year  Time  Depth(km)  Magnitude  Latitude  Longitude  \\\n",
       "0   11      6  2024    19         12        2.9      9.34     125.58   \n",
       "1   10      6  2024  2318         16        4.3      4.43     127.12   \n",
       "2   10      6  2024  2317         29        2.0     11.03     124.55   \n",
       "3   10      6  2024  2250          1        3.1     10.52     125.06   \n",
       "4   10      6  2024  2242         68        3.9      5.74     126.45   \n",
       "\n",
       "   Distance(km)  City  Province  Zip Code  Richter Category  \n",
       "0             7   647         9      8607                 0  \n",
       "1           216  1234       117      8015                 2  \n",
       "2            14   926        97      6540                 0  \n",
       "3            12  1261       173      6607                 1  \n",
       "4            92   664        59      8014                 1  "
      ]
     },
     "execution_count": 13,
     "metadata": {},
     "output_type": "execute_result"
    }
   ],
   "source": [
    "for index, row in data.iterrows():\n",
    "    data.loc[index, 'Richter Category'] = getRichter(row['Magnitude'])\n",
    "data.head()"
   ]
  },
  {
   "cell_type": "code",
   "execution_count": 14,
   "id": "5068b6f9",
   "metadata": {},
   "outputs": [
    {
     "data": {
      "text/plain": [
       "(85009, 13)"
      ]
     },
     "execution_count": 14,
     "metadata": {},
     "output_type": "execute_result"
    }
   ],
   "source": [
    "data.shape"
   ]
  },
  {
   "cell_type": "code",
   "execution_count": 15,
   "id": "e946063f",
   "metadata": {},
   "outputs": [
    {
     "data": {
      "text/plain": [
       "(85009, 13)"
      ]
     },
     "execution_count": 15,
     "metadata": {},
     "output_type": "execute_result"
    }
   ],
   "source": [
    "data.shape"
   ]
  },
  {
   "cell_type": "code",
   "execution_count": 16,
   "id": "9bd80919",
   "metadata": {},
   "outputs": [
    {
     "data": {
      "text/html": [
       "<div>\n",
       "<style scoped>\n",
       "    .dataframe tbody tr th:only-of-type {\n",
       "        vertical-align: middle;\n",
       "    }\n",
       "\n",
       "    .dataframe tbody tr th {\n",
       "        vertical-align: top;\n",
       "    }\n",
       "\n",
       "    .dataframe thead th {\n",
       "        text-align: right;\n",
       "    }\n",
       "</style>\n",
       "<table border=\"1\" class=\"dataframe\">\n",
       "  <thead>\n",
       "    <tr style=\"text-align: right;\">\n",
       "      <th></th>\n",
       "      <th>Day</th>\n",
       "      <th>Month</th>\n",
       "      <th>Year</th>\n",
       "      <th>Time</th>\n",
       "      <th>Depth(km)</th>\n",
       "      <th>Magnitude</th>\n",
       "      <th>Latitude</th>\n",
       "      <th>Longitude</th>\n",
       "      <th>Distance(km)</th>\n",
       "      <th>City</th>\n",
       "      <th>Province</th>\n",
       "      <th>Zip Code</th>\n",
       "      <th>Richter Category</th>\n",
       "    </tr>\n",
       "  </thead>\n",
       "  <tbody>\n",
       "    <tr>\n",
       "      <th>16</th>\n",
       "      <td>10</td>\n",
       "      <td>6</td>\n",
       "      <td>2024</td>\n",
       "      <td>1937</td>\n",
       "      <td>17</td>\n",
       "      <td>2.3</td>\n",
       "      <td>9.13</td>\n",
       "      <td>126.22</td>\n",
       "      <td>8</td>\n",
       "      <td>82</td>\n",
       "      <td>180</td>\n",
       "      <td>0</td>\n",
       "      <td>0</td>\n",
       "    </tr>\n",
       "    <tr>\n",
       "      <th>131</th>\n",
       "      <td>8</td>\n",
       "      <td>6</td>\n",
       "      <td>2024</td>\n",
       "      <td>1339</td>\n",
       "      <td>90</td>\n",
       "      <td>2.2</td>\n",
       "      <td>9.07</td>\n",
       "      <td>126.23</td>\n",
       "      <td>6</td>\n",
       "      <td>82</td>\n",
       "      <td>180</td>\n",
       "      <td>0</td>\n",
       "      <td>0</td>\n",
       "    </tr>\n",
       "    <tr>\n",
       "      <th>180</th>\n",
       "      <td>7</td>\n",
       "      <td>6</td>\n",
       "      <td>2024</td>\n",
       "      <td>722</td>\n",
       "      <td>52</td>\n",
       "      <td>2.5</td>\n",
       "      <td>11.28</td>\n",
       "      <td>125.39</td>\n",
       "      <td>16</td>\n",
       "      <td>565</td>\n",
       "      <td>71</td>\n",
       "      <td>0</td>\n",
       "      <td>0</td>\n",
       "    </tr>\n",
       "    <tr>\n",
       "      <th>367</th>\n",
       "      <td>3</td>\n",
       "      <td>6</td>\n",
       "      <td>2024</td>\n",
       "      <td>2242</td>\n",
       "      <td>28</td>\n",
       "      <td>2.4</td>\n",
       "      <td>6.36</td>\n",
       "      <td>124.67</td>\n",
       "      <td>8</td>\n",
       "      <td>1225</td>\n",
       "      <td>171</td>\n",
       "      <td>0</td>\n",
       "      <td>0</td>\n",
       "    </tr>\n",
       "    <tr>\n",
       "      <th>487</th>\n",
       "      <td>1</td>\n",
       "      <td>6</td>\n",
       "      <td>2024</td>\n",
       "      <td>1616</td>\n",
       "      <td>32</td>\n",
       "      <td>2.4</td>\n",
       "      <td>11.63</td>\n",
       "      <td>125.17</td>\n",
       "      <td>14</td>\n",
       "      <td>609</td>\n",
       "      <td>156</td>\n",
       "      <td>0</td>\n",
       "      <td>0</td>\n",
       "    </tr>\n",
       "    <tr>\n",
       "      <th>...</th>\n",
       "      <td>...</td>\n",
       "      <td>...</td>\n",
       "      <td>...</td>\n",
       "      <td>...</td>\n",
       "      <td>...</td>\n",
       "      <td>...</td>\n",
       "      <td>...</td>\n",
       "      <td>...</td>\n",
       "      <td>...</td>\n",
       "      <td>...</td>\n",
       "      <td>...</td>\n",
       "      <td>...</td>\n",
       "      <td>...</td>\n",
       "    </tr>\n",
       "    <tr>\n",
       "      <th>84970</th>\n",
       "      <td>5</td>\n",
       "      <td>1</td>\n",
       "      <td>2018</td>\n",
       "      <td>837</td>\n",
       "      <td>71</td>\n",
       "      <td>3.5</td>\n",
       "      <td>3.07</td>\n",
       "      <td>125.17</td>\n",
       "      <td>264</td>\n",
       "      <td>1233</td>\n",
       "      <td>59</td>\n",
       "      <td>0</td>\n",
       "      <td>1</td>\n",
       "    </tr>\n",
       "    <tr>\n",
       "      <th>84976</th>\n",
       "      <td>4</td>\n",
       "      <td>1</td>\n",
       "      <td>2018</td>\n",
       "      <td>815</td>\n",
       "      <td>10</td>\n",
       "      <td>3.8</td>\n",
       "      <td>3.36</td>\n",
       "      <td>126.61</td>\n",
       "      <td>262</td>\n",
       "      <td>1233</td>\n",
       "      <td>59</td>\n",
       "      <td>0</td>\n",
       "      <td>1</td>\n",
       "    </tr>\n",
       "    <tr>\n",
       "      <th>84977</th>\n",
       "      <td>4</td>\n",
       "      <td>1</td>\n",
       "      <td>2018</td>\n",
       "      <td>641</td>\n",
       "      <td>139</td>\n",
       "      <td>4.1</td>\n",
       "      <td>3.59</td>\n",
       "      <td>126.45</td>\n",
       "      <td>231</td>\n",
       "      <td>1233</td>\n",
       "      <td>59</td>\n",
       "      <td>0</td>\n",
       "      <td>2</td>\n",
       "    </tr>\n",
       "    <tr>\n",
       "      <th>84983</th>\n",
       "      <td>3</td>\n",
       "      <td>1</td>\n",
       "      <td>2018</td>\n",
       "      <td>1739</td>\n",
       "      <td>96</td>\n",
       "      <td>3.8</td>\n",
       "      <td>4.15</td>\n",
       "      <td>126.76</td>\n",
       "      <td>202</td>\n",
       "      <td>1233</td>\n",
       "      <td>59</td>\n",
       "      <td>0</td>\n",
       "      <td>1</td>\n",
       "    </tr>\n",
       "    <tr>\n",
       "      <th>84993</th>\n",
       "      <td>2</td>\n",
       "      <td>1</td>\n",
       "      <td>2018</td>\n",
       "      <td>346</td>\n",
       "      <td>15</td>\n",
       "      <td>3.7</td>\n",
       "      <td>3.56</td>\n",
       "      <td>126.55</td>\n",
       "      <td>239</td>\n",
       "      <td>1579</td>\n",
       "      <td>59</td>\n",
       "      <td>0</td>\n",
       "      <td>1</td>\n",
       "    </tr>\n",
       "  </tbody>\n",
       "</table>\n",
       "<p>4955 rows × 13 columns</p>\n",
       "</div>"
      ],
      "text/plain": [
       "       Day  Month  Year  Time  Depth(km)  Magnitude  Latitude  Longitude  \\\n",
       "16      10      6  2024  1937         17        2.3      9.13     126.22   \n",
       "131      8      6  2024  1339         90        2.2      9.07     126.23   \n",
       "180      7      6  2024   722         52        2.5     11.28     125.39   \n",
       "367      3      6  2024  2242         28        2.4      6.36     124.67   \n",
       "487      1      6  2024  1616         32        2.4     11.63     125.17   \n",
       "...    ...    ...   ...   ...        ...        ...       ...        ...   \n",
       "84970    5      1  2018   837         71        3.5      3.07     125.17   \n",
       "84976    4      1  2018   815         10        3.8      3.36     126.61   \n",
       "84977    4      1  2018   641        139        4.1      3.59     126.45   \n",
       "84983    3      1  2018  1739         96        3.8      4.15     126.76   \n",
       "84993    2      1  2018   346         15        3.7      3.56     126.55   \n",
       "\n",
       "       Distance(km)  City  Province  Zip Code  Richter Category  \n",
       "16                8    82       180         0                 0  \n",
       "131               6    82       180         0                 0  \n",
       "180              16   565        71         0                 0  \n",
       "367               8  1225       171         0                 0  \n",
       "487              14   609       156         0                 0  \n",
       "...             ...   ...       ...       ...               ...  \n",
       "84970           264  1233        59         0                 1  \n",
       "84976           262  1233        59         0                 1  \n",
       "84977           231  1233        59         0                 2  \n",
       "84983           202  1233        59         0                 1  \n",
       "84993           239  1579        59         0                 1  \n",
       "\n",
       "[4955 rows x 13 columns]"
      ]
     },
     "execution_count": 16,
     "metadata": {},
     "output_type": "execute_result"
    }
   ],
   "source": [
    "data[data['Zip Code'] == 0]"
   ]
  },
  {
   "cell_type": "code",
   "execution_count": 17,
   "id": "dce7a63d",
   "metadata": {},
   "outputs": [
    {
     "data": {
      "image/png": "[encoded data removed]",
      "text/plain": [
       "<Figure size 640x480 with 1 Axes>"
      ]
     },
     "metadata": {},
     "output_type": "display_data"
    }
   ],
   "source": [
    "import matplotlib.pyplot as plt\n",
    "\n",
    "data['Richter Category'].hist()  # Adjust bins as needed for better visualization\n",
    "plt.xlabel('Values')\n",
    "plt.ylabel('Frequency')\n",
    "plt.title('Distribution of values')\n",
    "plt.grid(True)\n",
    "plt.show()"
   ]
  },
  {
   "cell_type": "code",
   "execution_count": 18,
   "id": "93db7450",
   "metadata": {},
   "outputs": [
    {
     "data": {
      "image/png": "[encoded data removed]",
      "text/plain": [
       "<Figure size 640x480 with 1 Axes>"
      ]
     },
     "metadata": {},
     "output_type": "display_data"
    }
   ],
   "source": [
    "data.boxplot(column='Richter Category', by='Month')\n",
    "plt.title('Distribution of values')\n",
    "plt.grid(True)\n",
    "plt.show()"
   ]
  },
  {
   "cell_type": "code",
   "execution_count": 19,
   "id": "36cddc32",
   "metadata": {},
   "outputs": [],
   "source": [
    "X = data.drop(['Richter Category', 'Magnitude', 'Depth(km)', 'City', 'Province', 'Distance(km)'], axis=1)\n",
    "y = data['Richter Category']"
   ]
  },
  {
   "cell_type": "code",
   "execution_count": 20,
   "id": "0cb029f7",
   "metadata": {},
   "outputs": [
    {
     "data": {
      "text/plain": [
       "Index(['Day', 'Month', 'Year', 'Time', 'Latitude', 'Longitude', 'Zip Code'], dtype='object')"
      ]
     },
     "execution_count": 20,
     "metadata": {},
     "output_type": "execute_result"
    }
   ],
   "source": [
    "X.columns"
   ]
  },
  {
   "cell_type": "code",
   "execution_count": 21,
   "id": "5735f967",
   "metadata": {},
   "outputs": [
    {
     "data": {
      "text/plain": [
       "(85009, 7)"
      ]
     },
     "execution_count": 21,
     "metadata": {},
     "output_type": "execute_result"
    }
   ],
   "source": [
    "X.shape"
   ]
  },
  {
   "cell_type": "code",
   "execution_count": 22,
   "id": "b59d5e04",
   "metadata": {},
   "outputs": [
    {
     "data": {
      "text/plain": [
       "(85009,)"
      ]
     },
     "execution_count": 22,
     "metadata": {},
     "output_type": "execute_result"
    }
   ],
   "source": [
    "y.shape"
   ]
  },
  {
   "cell_type": "code",
   "execution_count": 23,
   "id": "9419988e",
   "metadata": {},
   "outputs": [
    {
     "data": {
      "text/html": [
       "<div>\n",
       "<style scoped>\n",
       "    .dataframe tbody tr th:only-of-type {\n",
       "        vertical-align: middle;\n",
       "    }\n",
       "\n",
       "    .dataframe tbody tr th {\n",
       "        vertical-align: top;\n",
       "    }\n",
       "\n",
       "    .dataframe thead th {\n",
       "        text-align: right;\n",
       "    }\n",
       "</style>\n",
       "<table border=\"1\" class=\"dataframe\">\n",
       "  <thead>\n",
       "    <tr style=\"text-align: right;\">\n",
       "      <th></th>\n",
       "      <th>Day</th>\n",
       "      <th>Month</th>\n",
       "      <th>Year</th>\n",
       "      <th>Time</th>\n",
       "      <th>Latitude</th>\n",
       "      <th>Longitude</th>\n",
       "      <th>Zip Code</th>\n",
       "    </tr>\n",
       "  </thead>\n",
       "  <tbody>\n",
       "    <tr>\n",
       "      <th>0</th>\n",
       "      <td>11</td>\n",
       "      <td>6</td>\n",
       "      <td>2024</td>\n",
       "      <td>19</td>\n",
       "      <td>9.34</td>\n",
       "      <td>125.58</td>\n",
       "      <td>8607</td>\n",
       "    </tr>\n",
       "    <tr>\n",
       "      <th>1</th>\n",
       "      <td>10</td>\n",
       "      <td>6</td>\n",
       "      <td>2024</td>\n",
       "      <td>2318</td>\n",
       "      <td>4.43</td>\n",
       "      <td>127.12</td>\n",
       "      <td>8015</td>\n",
       "    </tr>\n",
       "    <tr>\n",
       "      <th>2</th>\n",
       "      <td>10</td>\n",
       "      <td>6</td>\n",
       "      <td>2024</td>\n",
       "      <td>2317</td>\n",
       "      <td>11.03</td>\n",
       "      <td>124.55</td>\n",
       "      <td>6540</td>\n",
       "    </tr>\n",
       "    <tr>\n",
       "      <th>3</th>\n",
       "      <td>10</td>\n",
       "      <td>6</td>\n",
       "      <td>2024</td>\n",
       "      <td>2250</td>\n",
       "      <td>10.52</td>\n",
       "      <td>125.06</td>\n",
       "      <td>6607</td>\n",
       "    </tr>\n",
       "    <tr>\n",
       "      <th>4</th>\n",
       "      <td>10</td>\n",
       "      <td>6</td>\n",
       "      <td>2024</td>\n",
       "      <td>2242</td>\n",
       "      <td>5.74</td>\n",
       "      <td>126.45</td>\n",
       "      <td>8014</td>\n",
       "    </tr>\n",
       "  </tbody>\n",
       "</table>\n",
       "</div>"
      ],
      "text/plain": [
       "   Day  Month  Year  Time  Latitude  Longitude  Zip Code\n",
       "0   11      6  2024    19      9.34     125.58      8607\n",
       "1   10      6  2024  2318      4.43     127.12      8015\n",
       "2   10      6  2024  2317     11.03     124.55      6540\n",
       "3   10      6  2024  2250     10.52     125.06      6607\n",
       "4   10      6  2024  2242      5.74     126.45      8014"
      ]
     },
     "execution_count": 23,
     "metadata": {},
     "output_type": "execute_result"
    }
   ],
   "source": [
    "X.head()"
   ]
  },
  {
   "cell_type": "code",
   "execution_count": 24,
   "id": "f3eb8193",
   "metadata": {},
   "outputs": [
    {
     "data": {
      "text/plain": [
       "0    0\n",
       "1    2\n",
       "2    0\n",
       "3    1\n",
       "4    1\n",
       "Name: Richter Category, dtype: int64"
      ]
     },
     "execution_count": 24,
     "metadata": {},
     "output_type": "execute_result"
    }
   ],
   "source": [
    "y.head()"
   ]
  },
  {
   "cell_type": "code",
   "execution_count": 34,
   "id": "a759d846",
   "metadata": {},
   "outputs": [],
   "source": [
    "from sklearn.model_selection import train_test_split  #import sci-kit learn library to split train & test data\n",
    "X_train,X_test,y_train,y_test = train_test_split(X,y,test_size=0.30,random_state=0)"
   ]
  },
  {
   "cell_type": "code",
   "execution_count": 35,
   "id": "6a00bdf2",
   "metadata": {},
   "outputs": [
    {
     "data": {
      "text/plain": [
       "((59506, 7), (59506,))"
      ]
     },
     "execution_count": 35,
     "metadata": {},
     "output_type": "execute_result"
    }
   ],
   "source": [
    "X_train.shape, y_train.shape  #display X_train and y_train shape"
   ]
  },
  {
   "cell_type": "code",
   "execution_count": 36,
   "id": "c2f27956",
   "metadata": {},
   "outputs": [
    {
     "data": {
      "text/plain": [
       "((25503, 7), (25503,))"
      ]
     },
     "execution_count": 36,
     "metadata": {},
     "output_type": "execute_result"
    }
   ],
   "source": [
    "X_test.shape, y_test.shape  #display X_test and y_test shape"
   ]
  },
  {
   "cell_type": "code",
   "execution_count": 37,
   "id": "dc05a3b3",
   "metadata": {},
   "outputs": [
    {
     "data": {
      "text/html": [
       "<div>\n",
       "<style scoped>\n",
       "    .dataframe tbody tr th:only-of-type {\n",
       "        vertical-align: middle;\n",
       "    }\n",
       "\n",
       "    .dataframe tbody tr th {\n",
       "        vertical-align: top;\n",
       "    }\n",
       "\n",
       "    .dataframe thead th {\n",
       "        text-align: right;\n",
       "    }\n",
       "</style>\n",
       "<table border=\"1\" class=\"dataframe\">\n",
       "  <thead>\n",
       "    <tr style=\"text-align: right;\">\n",
       "      <th></th>\n",
       "      <th>Day</th>\n",
       "      <th>Month</th>\n",
       "      <th>Year</th>\n",
       "      <th>Time</th>\n",
       "      <th>Latitude</th>\n",
       "      <th>Longitude</th>\n",
       "      <th>Zip Code</th>\n",
       "    </tr>\n",
       "  </thead>\n",
       "  <tbody>\n",
       "    <tr>\n",
       "      <th>42080</th>\n",
       "      <td>9</td>\n",
       "      <td>10</td>\n",
       "      <td>2021</td>\n",
       "      <td>139</td>\n",
       "      <td>12.79</td>\n",
       "      <td>120.63</td>\n",
       "      <td>5104</td>\n",
       "    </tr>\n",
       "    <tr>\n",
       "      <th>50636</th>\n",
       "      <td>9</td>\n",
       "      <td>2</td>\n",
       "      <td>2021</td>\n",
       "      <td>1139</td>\n",
       "      <td>9.34</td>\n",
       "      <td>125.71</td>\n",
       "      <td>2707</td>\n",
       "    </tr>\n",
       "    <tr>\n",
       "      <th>54742</th>\n",
       "      <td>29</td>\n",
       "      <td>9</td>\n",
       "      <td>2020</td>\n",
       "      <td>2029</td>\n",
       "      <td>15.58</td>\n",
       "      <td>120.51</td>\n",
       "      <td>2306</td>\n",
       "    </tr>\n",
       "    <tr>\n",
       "      <th>2412</th>\n",
       "      <td>23</td>\n",
       "      <td>4</td>\n",
       "      <td>2024</td>\n",
       "      <td>542</td>\n",
       "      <td>8.55</td>\n",
       "      <td>126.52</td>\n",
       "      <td>8310</td>\n",
       "    </tr>\n",
       "    <tr>\n",
       "      <th>40810</th>\n",
       "      <td>18</td>\n",
       "      <td>11</td>\n",
       "      <td>2021</td>\n",
       "      <td>336</td>\n",
       "      <td>7.80</td>\n",
       "      <td>126.09</td>\n",
       "      <td>8805</td>\n",
       "    </tr>\n",
       "  </tbody>\n",
       "</table>\n",
       "</div>"
      ],
      "text/plain": [
       "       Day  Month  Year  Time  Latitude  Longitude  Zip Code\n",
       "42080    9     10  2021   139     12.79     120.63      5104\n",
       "50636    9      2  2021  1139      9.34     125.71      2707\n",
       "54742   29      9  2020  2029     15.58     120.51      2306\n",
       "2412    23      4  2024   542      8.55     126.52      8310\n",
       "40810   18     11  2021   336      7.80     126.09      8805"
      ]
     },
     "execution_count": 37,
     "metadata": {},
     "output_type": "execute_result"
    }
   ],
   "source": [
    "X_train.head()"
   ]
  },
  {
   "cell_type": "code",
   "execution_count": 38,
   "id": "824e488e",
   "metadata": {},
   "outputs": [
    {
     "data": {
      "text/html": [
       "<div>\n",
       "<style scoped>\n",
       "    .dataframe tbody tr th:only-of-type {\n",
       "        vertical-align: middle;\n",
       "    }\n",
       "\n",
       "    .dataframe tbody tr th {\n",
       "        vertical-align: top;\n",
       "    }\n",
       "\n",
       "    .dataframe thead th {\n",
       "        text-align: right;\n",
       "    }\n",
       "</style>\n",
       "<table border=\"1\" class=\"dataframe\">\n",
       "  <thead>\n",
       "    <tr style=\"text-align: right;\">\n",
       "      <th></th>\n",
       "      <th>Day</th>\n",
       "      <th>Month</th>\n",
       "      <th>Year</th>\n",
       "      <th>Time</th>\n",
       "      <th>Latitude</th>\n",
       "      <th>Longitude</th>\n",
       "      <th>Zip Code</th>\n",
       "    </tr>\n",
       "  </thead>\n",
       "  <tbody>\n",
       "    <tr>\n",
       "      <th>8750</th>\n",
       "      <td>28</td>\n",
       "      <td>12</td>\n",
       "      <td>2023</td>\n",
       "      <td>628</td>\n",
       "      <td>13.90</td>\n",
       "      <td>120.44</td>\n",
       "      <td>4215</td>\n",
       "    </tr>\n",
       "    <tr>\n",
       "      <th>33113</th>\n",
       "      <td>12</td>\n",
       "      <td>7</td>\n",
       "      <td>2022</td>\n",
       "      <td>1508</td>\n",
       "      <td>10.48</td>\n",
       "      <td>126.13</td>\n",
       "      <td>2410</td>\n",
       "    </tr>\n",
       "    <tr>\n",
       "      <th>82320</th>\n",
       "      <td>29</td>\n",
       "      <td>6</td>\n",
       "      <td>2018</td>\n",
       "      <td>2342</td>\n",
       "      <td>13.98</td>\n",
       "      <td>120.53</td>\n",
       "      <td>4216</td>\n",
       "    </tr>\n",
       "    <tr>\n",
       "      <th>47296</th>\n",
       "      <td>6</td>\n",
       "      <td>6</td>\n",
       "      <td>2021</td>\n",
       "      <td>651</td>\n",
       "      <td>5.55</td>\n",
       "      <td>125.11</td>\n",
       "      <td>9517</td>\n",
       "    </tr>\n",
       "    <tr>\n",
       "      <th>32289</th>\n",
       "      <td>28</td>\n",
       "      <td>7</td>\n",
       "      <td>2022</td>\n",
       "      <td>1027</td>\n",
       "      <td>17.42</td>\n",
       "      <td>120.97</td>\n",
       "      <td>2816</td>\n",
       "    </tr>\n",
       "  </tbody>\n",
       "</table>\n",
       "</div>"
      ],
      "text/plain": [
       "       Day  Month  Year  Time  Latitude  Longitude  Zip Code\n",
       "8750    28     12  2023   628     13.90     120.44      4215\n",
       "33113   12      7  2022  1508     10.48     126.13      2410\n",
       "82320   29      6  2018  2342     13.98     120.53      4216\n",
       "47296    6      6  2021   651      5.55     125.11      9517\n",
       "32289   28      7  2022  1027     17.42     120.97      2816"
      ]
     },
     "execution_count": 38,
     "metadata": {},
     "output_type": "execute_result"
    }
   ],
   "source": [
    "X_test.head()"
   ]
  },
  {
   "cell_type": "code",
   "execution_count": 40,
   "id": "e4cd636a",
   "metadata": {},
   "outputs": [],
   "source": [
    "#import libraries to build the gradient boosting and fit the model\n",
    "from sklearn.metrics import accuracy_score\n",
    "from sklearn.ensemble import GradientBoostingClassifier\n",
    "\n",
    "gb_classifier = GradientBoostingClassifier(n_estimators=50, learning_rate=0.1, max_depth=3,random_state=0)\n",
    "gb_classifier.fit(X_train, y_train)\n",
    "\n",
    "#make predictions and store data for later\n",
    "y_pred_gb = gb_classifier.predict(X_test)\n",
    "\n",
    "#get the accuracy score\n",
    "acc_gb = round(accuracy_score(y_test,y_pred_gb)*100,2)"
   ]
  },
  {
   "cell_type": "code",
   "execution_count": 41,
   "id": "ab80f711",
   "metadata": {},
   "outputs": [],
   "source": [
    "#import libraries to build the decision tree model and fit the model\n",
    "from sklearn.tree import DecisionTreeClassifier\n",
    "\n",
    "dt_classifier = DecisionTreeClassifier()\n",
    "dt_classifier.fit(X_train, y_train)\n",
    "\n",
    "#make predictions and store data for later\n",
    "y_pred_dt = dt_classifier.predict(X_test)\n",
    "\n",
    "#get the accuracy score\n",
    "acc_dt = round(accuracy_score(y_test,y_pred_dt)*100,2)"
   ]
  },
  {
   "cell_type": "code",
   "execution_count": 42,
   "id": "66c65d29",
   "metadata": {},
   "outputs": [],
   "source": [
    "#import libraries to build the knn model and fit in the train data\n",
    "from sklearn.neighbors import KNeighborsClassifier\n",
    "\n",
    "knn = KNeighborsClassifier(n_neighbors = 3) \n",
    "knn.fit(X_train, y_train)\n",
    "\n",
    "#make predictions and store data for later\n",
    "y_pred_knn = knn.predict(X_test) \n",
    "\n",
    "#get the accuracy score\n",
    "acc_knn = round(accuracy_score(y_test,y_pred_knn)*100,2)"
   ]
  },
  {
   "cell_type": "code",
   "execution_count": 43,
   "id": "23156ea7",
   "metadata": {},
   "outputs": [],
   "source": [
    "#import libraries to build the random forest model and fit in the train data\n",
    "from sklearn.ensemble import RandomForestClassifier\n",
    "\n",
    "rf = RandomForestClassifier(n_estimators=100)\n",
    "rf.fit(X_train, y_train)\n",
    "\n",
    "#make predictions and store data for later\n",
    "y_pred_rf = rf.predict(X_test)\n",
    "\n",
    "#get the accuracy score\n",
    "acc_rf = round(accuracy_score(y_test,y_pred_rf)*100,2)"
   ]
  },
  {
   "cell_type": "code",
   "execution_count": 45,
   "id": "217831e4",
   "metadata": {},
   "outputs": [],
   "source": [
    "#import libraries to build the random forest model and fit in the train data\n",
    "#import libraries to build the Naive Bayes model and fit in the train data\n",
    "from sklearn.naive_bayes import GaussianNB\n",
    "\n",
    "gnb = GaussianNB() \n",
    "gnb.fit(X_train, y_train)  \n",
    "\n",
    "#make predictions and store data for later\n",
    "y_pred_gnb = gnb.predict(X_test)  \n",
    "\n",
    "#get the accuracy score\n",
    "acc_gnb = round(accuracy_score(y_test,y_pred_gnb)*100,2)"
   ]
  },
  {
   "cell_type": "code",
   "execution_count": 46,
   "id": "9d525de0",
   "metadata": {},
   "outputs": [],
   "source": [
    "#import libraries for SVM\n",
    "#from sklearn.svm import SVC\n",
    "\n",
    "#svm_classifier = SVC(C=100,kernel='rbf',gamma=1)     \n",
    "#svm_classifier.fit(X_train,y_train)\n",
    "\n",
    "#make predictions and store data for later\n",
    "#y_pred_svm = svm_classifier.predict(X_test)\n",
    "\n",
    "#get the accuracy score\n",
    "#acc_svm = round(accuracy_score(y_test,y_pred_svm)*100,2)"
   ]
  },
  {
   "cell_type": "code",
   "execution_count": 47,
   "id": "fb8e3651",
   "metadata": {},
   "outputs": [],
   "source": [
    "#import libraries for SVM\n",
    "from sklearn.ensemble import AdaBoostClassifier\n",
    "\n",
    "ada_boost = AdaBoostClassifier()     \n",
    "ada_boost.fit(X_train,y_train)\n",
    "\n",
    "#make predictions and store data for later\n",
    "y_pred_ada = ada_boost.predict(X_test)\n",
    "\n",
    "#get the accuracy score\n",
    "acc_ada = round(accuracy_score(y_test,y_pred_ada)*100,2)"
   ]
  },
  {
   "cell_type": "code",
   "execution_count": 48,
   "id": "7ed9d24b",
   "metadata": {},
   "outputs": [],
   "source": [
    "#import libraries for SVM\n",
    "from sklearn.ensemble import BaggingClassifier\n",
    "\n",
    "bg = BaggingClassifier()     \n",
    "bg.fit(X_train,y_train)\n",
    "\n",
    "#make predictions and store data for later\n",
    "y_pred_bg = bg.predict(X_test)\n",
    "\n",
    "#get the accuracy score\n",
    "acc_bg = round(accuracy_score(y_test,y_pred_bg)*100,2)"
   ]
  },
  {
   "cell_type": "code",
   "execution_count": 49,
   "id": "47d72203",
   "metadata": {},
   "outputs": [],
   "source": [
    "#import libraries for SVM\n",
    "from sklearn.ensemble import ExtraTreesClassifier\n",
    "\n",
    "etc = ExtraTreesClassifier()     \n",
    "etc.fit(X_train,y_train)\n",
    "\n",
    "#make predictions and store data for later\n",
    "y_pred_etc = etc.predict(X_test)\n",
    "\n",
    "#get the accuracy score\n",
    "acc_etc = round(accuracy_score(y_test,y_pred_etc)*100,2)"
   ]
  },
  {
   "cell_type": "code",
   "execution_count": 50,
   "id": "da53d325",
   "metadata": {},
   "outputs": [],
   "source": [
    "#import libraries for SVM\n",
    "from sklearn.ensemble import HistGradientBoostingClassifier\n",
    "\n",
    "hgb = HistGradientBoostingClassifier()     \n",
    "hgb.fit(X_train,y_train)\n",
    "\n",
    "#make predictions and store data for later\n",
    "y_pred_hgb = hgb.predict(X_test)\n",
    "\n",
    "#get the accuracy score\n",
    "acc_hgb = round(accuracy_score(y_test,y_pred_hgb)*100,2)"
   ]
  },
  {
   "cell_type": "code",
   "execution_count": 51,
   "id": "fcf89b1e",
   "metadata": {},
   "outputs": [],
   "source": [
    "#import libraries for SVM\n",
    "from sklearn.neural_network import MLPClassifier\n",
    "\n",
    "mlpc = MLPClassifier()     \n",
    "mlpc.fit(X_train,y_train)\n",
    "\n",
    "#make predictions and store data for later\n",
    "y_pred_mlpc = mlpc.predict(X_test)\n",
    "\n",
    "#get the accuracy score\n",
    "acc_mlpc = round(accuracy_score(y_test,y_pred_mlpc)*100,2)"
   ]
  },
  {
   "cell_type": "code",
   "execution_count": 52,
   "id": "ada6b962",
   "metadata": {},
   "outputs": [],
   "source": [
    "#import libraries to build the Naive Bayes model and fit in the train data\n",
    "from sklearn.naive_bayes import BernoulliNB\n",
    "\n",
    "bnb = BernoulliNB() \n",
    "bnb.fit(X_train, y_train)  \n",
    "\n",
    "#make predictions and store data for later\n",
    "y_pred_bnb = bnb.predict(X_test)  \n",
    "\n",
    "#get the accuracy score\n",
    "acc_bnb = round(accuracy_score(y_test,y_pred_bnb)*100,2)"
   ]
  },
  {
   "cell_type": "code",
   "execution_count": 53,
   "id": "5d160d14",
   "metadata": {},
   "outputs": [],
   "source": [
    "#import libraries to build the Naive Bayes model and fit in the train data\n",
    "from sklearn.tree import ExtraTreeClassifier\n",
    "\n",
    "ext = ExtraTreeClassifier() \n",
    "ext.fit(X_train, y_train)  \n",
    "\n",
    "#make predictions and store data for later\n",
    "y_pred_ext = ext.predict(X_test)  \n",
    "\n",
    "#get the accuracy score\n",
    "acc_ext = round(accuracy_score(y_test,y_pred_ext)*100,2)"
   ]
  },
  {
   "cell_type": "code",
   "execution_count": 54,
   "id": "30e7884d",
   "metadata": {},
   "outputs": [],
   "source": [
    "from sklearn.dummy import DummyClassifier\n",
    "\n",
    "dc = DummyClassifier(strategy='most_frequent')\n",
    "dc.fit(X_train, y_train)\n",
    "\n",
    "#make predictions and store data for later\n",
    "y_pred_dc = dc.predict(X_test)  \n",
    "\n",
    "#get the accuracy score\n",
    "acc_dc = round(accuracy_score(y_test,y_pred_dc)*100,2)"
   ]
  },
  {
   "cell_type": "code",
   "execution_count": 55,
   "id": "e6c5960c",
   "metadata": {},
   "outputs": [
    {
     "data": {
      "text/html": [
       "<div>\n",
       "<style scoped>\n",
       "    .dataframe tbody tr th:only-of-type {\n",
       "        vertical-align: middle;\n",
       "    }\n",
       "\n",
       "    .dataframe tbody tr th {\n",
       "        vertical-align: top;\n",
       "    }\n",
       "\n",
       "    .dataframe thead th {\n",
       "        text-align: right;\n",
       "    }\n",
       "</style>\n",
       "<table border=\"1\" class=\"dataframe\">\n",
       "  <thead>\n",
       "    <tr style=\"text-align: right;\">\n",
       "      <th></th>\n",
       "      <th>Model</th>\n",
       "    </tr>\n",
       "    <tr>\n",
       "      <th>Score</th>\n",
       "      <th></th>\n",
       "    </tr>\n",
       "  </thead>\n",
       "  <tbody>\n",
       "    <tr>\n",
       "      <th>77.84</th>\n",
       "      <td>Random Forest</td>\n",
       "    </tr>\n",
       "    <tr>\n",
       "      <th>77.56</th>\n",
       "      <td>Gradient Boosting</td>\n",
       "    </tr>\n",
       "    <tr>\n",
       "      <th>77.17</th>\n",
       "      <td>Extra Trees</td>\n",
       "    </tr>\n",
       "    <tr>\n",
       "      <th>77.11</th>\n",
       "      <td>Hist Gradient Boosting</td>\n",
       "    </tr>\n",
       "    <tr>\n",
       "      <th>76.30</th>\n",
       "      <td>Bagging Classifier</td>\n",
       "    </tr>\n",
       "    <tr>\n",
       "      <th>75.61</th>\n",
       "      <td>Naive Bayes</td>\n",
       "    </tr>\n",
       "    <tr>\n",
       "      <th>75.59</th>\n",
       "      <td>Bernoulli NB</td>\n",
       "    </tr>\n",
       "    <tr>\n",
       "      <th>75.59</th>\n",
       "      <td>Dummy Classifier</td>\n",
       "    </tr>\n",
       "    <tr>\n",
       "      <th>74.86</th>\n",
       "      <td>MLPC Classifier</td>\n",
       "    </tr>\n",
       "    <tr>\n",
       "      <th>71.63</th>\n",
       "      <td>K Nearest Neighbors</td>\n",
       "    </tr>\n",
       "    <tr>\n",
       "      <th>67.38</th>\n",
       "      <td>Extra Tree Classifier</td>\n",
       "    </tr>\n",
       "    <tr>\n",
       "      <th>67.22</th>\n",
       "      <td>Decision Tree</td>\n",
       "    </tr>\n",
       "    <tr>\n",
       "      <th>39.04</th>\n",
       "      <td>Ada Boost</td>\n",
       "    </tr>\n",
       "  </tbody>\n",
       "</table>\n",
       "</div>"
      ],
      "text/plain": [
       "                        Model\n",
       "Score                        \n",
       "77.84           Random Forest\n",
       "77.56       Gradient Boosting\n",
       "77.17             Extra Trees\n",
       "77.11  Hist Gradient Boosting\n",
       "76.30      Bagging Classifier\n",
       "75.61             Naive Bayes\n",
       "75.59            Bernoulli NB\n",
       "75.59        Dummy Classifier\n",
       "74.86         MLPC Classifier\n",
       "71.63     K Nearest Neighbors\n",
       "67.38   Extra Tree Classifier\n",
       "67.22           Decision Tree\n",
       "39.04               Ada Boost"
      ]
     },
     "execution_count": 55,
     "metadata": {},
     "output_type": "execute_result"
    }
   ],
   "source": [
    "#display the accuracy results\n",
    "results = pd.DataFrame({\n",
    "    'Model': ['Gradient Boosting','Decision Tree', 'K Nearest Neighbors', \n",
    "              'Random Forest', 'Naive Bayes', 'Ada Boost', \n",
    "              'Bagging Classifier', 'Extra Trees', 'Hist Gradient Boosting',\n",
    "              'MLPC Classifier', 'Bernoulli NB', 'Extra Tree Classifier', 'Dummy Classifier'],\n",
    "    'Score': [acc_gb, acc_dt, acc_knn, \n",
    "              acc_rf, acc_gnb, acc_ada, acc_bg, acc_etc, acc_hgb, acc_mlpc, acc_bnb, acc_ext, acc_dc]})\n",
    "result_df = results.sort_values(by='Score', ascending=False)\n",
    "result_df = result_df.set_index('Score')\n",
    "result_df"
   ]
  },
  {
   "cell_type": "code",
   "execution_count": 56,
   "id": "afdff9e1",
   "metadata": {},
   "outputs": [
    {
     "name": "stdout",
     "output_type": "stream",
     "text": [
      "0.5761264919250622\n"
     ]
    }
   ],
   "source": [
    "#import libraries for root-mean-square error\n",
    "import numpy as np\n",
    "from sklearn import metrics\n",
    "from sklearn.metrics import mean_squared_error\n",
    "import math\n",
    "\n",
    "#display the root-mean-square error\n",
    "MSE=np.square(np.subtract(y_test,y_pred_rf)).mean()\n",
    "RMSE = (math.sqrt(MSE)) \n",
    "print(RMSE)"
   ]
  },
  {
   "cell_type": "code",
   "execution_count": 57,
   "id": "2dd8f661",
   "metadata": {},
   "outputs": [
    {
     "name": "stdout",
     "output_type": "stream",
     "text": [
      "Confusion Matrix : \n",
      " [[18468   784    23     1     1     0]\n",
      " [ 3800  1242    82     7     0     0]\n",
      " [  524   256   137     1     0     0]\n",
      " [   82    56    11     5     0     0]\n",
      " [   14     1     3     1     0     0]\n",
      " [    2     2     0     0     0     0]]\n"
     ]
    }
   ],
   "source": [
    "#import libraries for confusion matrix\n",
    "from sklearn.metrics import confusion_matrix\n",
    "cm = confusion_matrix(y_test, y_pred_rf) \n",
    "\n",
    "print (\"Confusion Matrix : \\n\", cm)  #display confusion matrix of multi class classification"
   ]
  },
  {
   "cell_type": "code",
   "execution_count": 58,
   "id": "ecf4cf3f",
   "metadata": {},
   "outputs": [
    {
     "data": {
      "text/plain": [
       "<Axes: xlabel='Predicted Values', ylabel='Actual Values'>"
      ]
     },
     "execution_count": 58,
     "metadata": {},
     "output_type": "execute_result"
    },
    {
     "data": {
      "image/png": "[encoded data removed]",
      "text/plain": [
       "<Figure size 640x480 with 2 Axes>"
      ]
     },
     "metadata": {},
     "output_type": "display_data"
    }
   ],
   "source": [
    "import seaborn as sns  #import package for plotting\n",
    "\n",
    "#confusion matrix\n",
    "cm = pd.crosstab(y_test, y_pred_gb, rownames=['Actual Values'], colnames=['Predicted Values'])\n",
    "sns.heatmap(cm, annot=True)"
   ]
  },
  {
   "cell_type": "code",
   "execution_count": 59,
   "id": "7e92d9cc",
   "metadata": {},
   "outputs": [
    {
     "data": {
      "text/plain": [
       "8750     0\n",
       "33113    2\n",
       "82320    0\n",
       "47296    0\n",
       "32289    0\n",
       "        ..\n",
       "33009    1\n",
       "19463    0\n",
       "83043    0\n",
       "83250    0\n",
       "70440    0\n",
       "Name: Richter Category, Length: 25503, dtype: int64"
      ]
     },
     "execution_count": 59,
     "metadata": {},
     "output_type": "execute_result"
    }
   ],
   "source": [
    "y_test"
   ]
  },
  {
   "cell_type": "code",
   "execution_count": 60,
   "id": "495b8129",
   "metadata": {},
   "outputs": [
    {
     "data": {
      "text/plain": [
       "array([0, 0, 0, ..., 0, 0, 0], dtype=int64)"
      ]
     },
     "execution_count": 60,
     "metadata": {},
     "output_type": "execute_result"
    }
   ],
   "source": [
    "y_pred_rf"
   ]
  },
  {
   "cell_type": "code",
   "execution_count": 61,
   "id": "645db0f8",
   "metadata": {},
   "outputs": [
    {
     "data": {
      "text/plain": [
       "0.7784182253068267"
      ]
     },
     "execution_count": 61,
     "metadata": {},
     "output_type": "execute_result"
    }
   ],
   "source": [
    "from sklearn.metrics import accuracy_score, precision_score, recall_score, f1_score, confusion_matrix, mean_squared_error, r2_score\n",
    "accuracy_score(y_test, y_pred_rf)"
   ]
  },
  {
   "cell_type": "code",
   "execution_count": 63,
   "id": "8d1bd76b",
   "metadata": {},
   "outputs": [
    {
     "name": "stderr",
     "output_type": "stream",
     "text": [
      "C:\\Users\\windows 11\\anaconda3\\Lib\\site-packages\\sklearn\\metrics\\_classification.py:1344: UndefinedMetricWarning: Precision is ill-defined and being set to 0.0 in labels with no predicted samples. Use `zero_division` parameter to control this behavior.\n",
      "  _warn_prf(average, modifier, msg_start, len(result))\n"
     ]
    },
    {
     "data": {
      "text/plain": [
       "0.7378660167747797"
      ]
     },
     "execution_count": 63,
     "metadata": {},
     "output_type": "execute_result"
    }
   ],
   "source": [
    "precision_score(y_test, y_pred_rf, average='weighted')"
   ]
  },
  {
   "cell_type": "code",
   "execution_count": 64,
   "id": "1ad33dbb",
   "metadata": {},
   "outputs": [
    {
     "data": {
      "text/plain": [
       "0.7784182253068267"
      ]
     },
     "execution_count": 64,
     "metadata": {},
     "output_type": "execute_result"
    }
   ],
   "source": [
    "recall_score(y_test, y_pred_rf, average='weighted')"
   ]
  },
  {
   "cell_type": "code",
   "execution_count": 65,
   "id": "766a6598",
   "metadata": {},
   "outputs": [
    {
     "data": {
      "text/plain": [
       "0.7377455241218164"
      ]
     },
     "execution_count": 65,
     "metadata": {},
     "output_type": "execute_result"
    }
   ],
   "source": [
    "f1_score(y_test, y_pred_rf, average='weighted')"
   ]
  },
  {
   "cell_type": "code",
   "execution_count": 69,
   "id": "f8143595",
   "metadata": {},
   "outputs": [
    {
     "data": {
      "image/png": "[encoded data removed]",
      "text/plain": [
       "<Figure size 800x600 with 1 Axes>"
      ]
     },
     "metadata": {},
     "output_type": "display_data"
    }
   ],
   "source": [
    "from sklearn.metrics import roc_auc_score, roc_curve, auc\n",
    "\n",
    "\n",
    "# Make predictions on test set\n",
    "probs = rf.predict_proba(X_test)\n",
    "\n",
    "# Compute ROC curve and ROC area for each class\n",
    "fpr = dict()\n",
    "tpr = dict()\n",
    "roc_auc = dict()\n",
    "for i in range(len(rf.classes_)):\n",
    "    fpr[i], tpr[i], _ = roc_curve(y_test == rf.classes_[i], probs[:, i])\n",
    "    roc_auc[i] = auc(fpr[i], tpr[i])\n",
    "\n",
    "# Plot ROC curve for each class\n",
    "plt.figure(figsize=(8, 6))\n",
    "for i in range(len(rf.classes_)):\n",
    "    plt.plot(fpr[i], tpr[i], label=f'Class {rf.classes_[i]} (AUC = {roc_auc[i]:0.2f})')\n",
    "plt.plot([0, 1], [0, 1], linestyle='--', color='black')\n",
    "plt.xlabel('False Positive Rate')\n",
    "plt.ylabel('True Positive Rate')\n",
    "plt.title('ROC Curve (Multiclass)')\n",
    "plt.legend()\n",
    "plt.show()"
   ]
  },
  {
   "cell_type": "code",
   "execution_count": 70,
   "id": "d0326bb8",
   "metadata": {},
   "outputs": [
    {
     "data": {
      "image/png": "[encoded data removed]",
      "text/plain": [
       "<Figure size 640x480 with 1 Axes>"
      ]
     },
     "metadata": {},
     "output_type": "display_data"
    }
   ],
   "source": [
    "import numpy as np\n",
    "import matplotlib.pyplot as plt\n",
    "from sklearn.model_selection import learning_curve\n",
    "\n",
    "def plot_learning_curve(estimator, title, X, y, ylim=None, cv=None, n_jobs=-1, train_sizes=np.linspace(.1, 1.0, 5)):\n",
    "    plt.figure()\n",
    "    plt.title(title)\n",
    "    if ylim is not None:\n",
    "        plt.ylim(*ylim)\n",
    "    plt.xlabel(\"Training examples\")\n",
    "    plt.ylabel(\"Score\")\n",
    "    train_sizes, train_scores, test_scores = learning_curve(\n",
    "        estimator, X, y, cv=cv, n_jobs=n_jobs, train_sizes=train_sizes)\n",
    "    train_scores_mean = np.mean(train_scores, axis=1)\n",
    "    train_scores_std = np.std(train_scores, axis=1)\n",
    "    test_scores_mean = np.mean(test_scores, axis=1)\n",
    "    test_scores_std = np.std(test_scores, axis=1)\n",
    "    plt.grid()\n",
    "\n",
    "    plt.fill_between(train_sizes, train_scores_mean - train_scores_std,\n",
    "                     train_scores_mean + train_scores_std, alpha=0.1,\n",
    "                     color=\"r\")\n",
    "    plt.fill_between(train_sizes, test_scores_mean - test_scores_std,\n",
    "                     test_scores_mean + test_scores_std, alpha=0.1, color=\"g\")\n",
    "    plt.plot(train_sizes, train_scores_mean, 'o-', color=\"r\",\n",
    "             label=\"Training score\")\n",
    "    plt.plot(train_sizes, test_scores_mean, 'o-', color=\"g\",\n",
    "             label=\"Cross-validation score\")\n",
    "\n",
    "    plt.legend(loc=\"best\")\n",
    "    return plt\n",
    "\n",
    "\n",
    "# Plot learning curve\n",
    "title = \"Learning Curves (Random Forest)\"\n",
    "plot_learning_curve(rf, title, X_train, y_train, cv=5)\n",
    "plt.show()"
   ]
  },
  {
   "cell_type": "code",
   "execution_count": 71,
   "id": "32b80e8c",
   "metadata": {},
   "outputs": [
    {
     "data": {
      "image/png": "[encoded data removed]",
      "text/plain": [
       "<Figure size 1000x800 with 1 Axes>"
      ]
     },
     "metadata": {},
     "output_type": "display_data"
    }
   ],
   "source": [
    "conf_matrix = confusion_matrix(y_test, y_pred_rf)\n",
    "\n",
    "# Plot Class Distribution Plot\n",
    "plt.figure(figsize=(10, 8))\n",
    "sns.heatmap(conf_matrix, annot=True, fmt='d', cmap='Blues', cbar=False)\n",
    "plt.xlabel('Predicted Class')\n",
    "plt.ylabel('True Class')\n",
    "plt.title('Class Distribution Plot')\n",
    "plt.show()"
   ]
  },
  {
   "cell_type": "code",
   "execution_count": null,
   "id": "42426e06",
   "metadata": {},
   "outputs": [],
   "source": []
  }
 ],
 "metadata": {
  "kernelspec": {
   "display_name": "Python 3 (ipykernel)",
   "language": "python",
   "name": "python3"
  },
  "language_info": {
   "codemirror_mode": {
    "name": "ipython",
    "version": 3
   },
   "file_extension": ".py",
   "mimetype": "text/x-python",
   "name": "python",
   "nbconvert_exporter": "python",
   "pygments_lexer": "ipython3",
   "version": "3.11.7"
  }
 },
 "nbformat": 4,
 "nbformat_minor": 5
}
