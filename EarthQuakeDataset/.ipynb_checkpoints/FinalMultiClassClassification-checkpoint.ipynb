{
 "cells": [
  {
   "cell_type": "code",
   "execution_count": 1,
   "id": "3efc0cd0",
   "metadata": {},
   "outputs": [],
   "source": [
    "import pandas as pd\n",
    "import numpy as np"
   ]
  },
  {
   "cell_type": "code",
   "execution_count": 2,
   "id": "e0134069",
   "metadata": {},
   "outputs": [],
   "source": [
    "data = pd.read_csv('earthquake_dataset.csv')"
   ]
  },
  {
   "cell_type": "code",
   "execution_count": 3,
   "id": "e5b749df",
   "metadata": {},
   "outputs": [
    {
     "data": {
      "text/html": [
       "<div>\n",
       "<style scoped>\n",
       "    .dataframe tbody tr th:only-of-type {\n",
       "        vertical-align: middle;\n",
       "    }\n",
       "\n",
       "    .dataframe tbody tr th {\n",
       "        vertical-align: top;\n",
       "    }\n",
       "\n",
       "    .dataframe thead th {\n",
       "        text-align: right;\n",
       "    }\n",
       "</style>\n",
       "<table border=\"1\" class=\"dataframe\">\n",
       "  <thead>\n",
       "    <tr style=\"text-align: right;\">\n",
       "      <th></th>\n",
       "      <th>Day</th>\n",
       "      <th>Month</th>\n",
       "      <th>Time</th>\n",
       "      <th>Latitude(ÂºN)</th>\n",
       "      <th>Longitude(ÂºE)</th>\n",
       "      <th>Depth(km)</th>\n",
       "      <th>Mag</th>\n",
       "      <th>Distance(km)</th>\n",
       "      <th>City</th>\n",
       "      <th>Province</th>\n",
       "      <th>Zip Code</th>\n",
       "    </tr>\n",
       "  </thead>\n",
       "  <tbody>\n",
       "    <tr>\n",
       "      <th>0</th>\n",
       "      <td>25</td>\n",
       "      <td>4</td>\n",
       "      <td>1919</td>\n",
       "      <td>8.50</td>\n",
       "      <td>124.42</td>\n",
       "      <td>1</td>\n",
       "      <td>2.4</td>\n",
       "      <td>9</td>\n",
       "      <td>292</td>\n",
       "      <td>53</td>\n",
       "      <td>9019</td>\n",
       "    </tr>\n",
       "    <tr>\n",
       "      <th>1</th>\n",
       "      <td>25</td>\n",
       "      <td>4</td>\n",
       "      <td>1813</td>\n",
       "      <td>18.13</td>\n",
       "      <td>120.81</td>\n",
       "      <td>27</td>\n",
       "      <td>2.1</td>\n",
       "      <td>5</td>\n",
       "      <td>124</td>\n",
       "      <td>37</td>\n",
       "      <td>2911</td>\n",
       "    </tr>\n",
       "    <tr>\n",
       "      <th>2</th>\n",
       "      <td>25</td>\n",
       "      <td>4</td>\n",
       "      <td>1808</td>\n",
       "      <td>14.71</td>\n",
       "      <td>121.78</td>\n",
       "      <td>8</td>\n",
       "      <td>2.5</td>\n",
       "      <td>15</td>\n",
       "      <td>251</td>\n",
       "      <td>68</td>\n",
       "      <td>2412</td>\n",
       "    </tr>\n",
       "    <tr>\n",
       "      <th>3</th>\n",
       "      <td>25</td>\n",
       "      <td>4</td>\n",
       "      <td>1706</td>\n",
       "      <td>5.64</td>\n",
       "      <td>126.33</td>\n",
       "      <td>105</td>\n",
       "      <td>2.9</td>\n",
       "      <td>82</td>\n",
       "      <td>267</td>\n",
       "      <td>30</td>\n",
       "      <td>8014</td>\n",
       "    </tr>\n",
       "    <tr>\n",
       "      <th>4</th>\n",
       "      <td>25</td>\n",
       "      <td>4</td>\n",
       "      <td>1647</td>\n",
       "      <td>8.07</td>\n",
       "      <td>126.71</td>\n",
       "      <td>29</td>\n",
       "      <td>3.9</td>\n",
       "      <td>33</td>\n",
       "      <td>314</td>\n",
       "      <td>81</td>\n",
       "      <td>8312</td>\n",
       "    </tr>\n",
       "  </tbody>\n",
       "</table>\n",
       "</div>"
      ],
      "text/plain": [
       "   Day  Month  Time  Latitude(ÂºN)  Longitude(ÂºE)  Depth(km)  Mag  \\\n",
       "0   25      4  1919           8.50          124.42          1  2.4   \n",
       "1   25      4  1813          18.13          120.81         27  2.1   \n",
       "2   25      4  1808          14.71          121.78          8  2.5   \n",
       "3   25      4  1706           5.64          126.33        105  2.9   \n",
       "4   25      4  1647           8.07          126.71         29  3.9   \n",
       "\n",
       "   Distance(km)  City  Province  Zip Code  \n",
       "0             9   292        53      9019  \n",
       "1             5   124        37      2911  \n",
       "2            15   251        68      2412  \n",
       "3            82   267        30      8014  \n",
       "4            33   314        81      8312  "
      ]
     },
     "execution_count": 3,
     "metadata": {},
     "output_type": "execute_result"
    }
   ],
   "source": [
    "data.head()"
   ]
  },
  {
   "cell_type": "code",
   "execution_count": 4,
   "id": "9bf6414a",
   "metadata": {},
   "outputs": [
    {
     "data": {
      "text/html": [
       "<div>\n",
       "<style scoped>\n",
       "    .dataframe tbody tr th:only-of-type {\n",
       "        vertical-align: middle;\n",
       "    }\n",
       "\n",
       "    .dataframe tbody tr th {\n",
       "        vertical-align: top;\n",
       "    }\n",
       "\n",
       "    .dataframe thead th {\n",
       "        text-align: right;\n",
       "    }\n",
       "</style>\n",
       "<table border=\"1\" class=\"dataframe\">\n",
       "  <thead>\n",
       "    <tr style=\"text-align: right;\">\n",
       "      <th></th>\n",
       "      <th>Day</th>\n",
       "      <th>Month</th>\n",
       "      <th>Time</th>\n",
       "      <th>Latitude(ÂºN)</th>\n",
       "      <th>Longitude(ÂºE)</th>\n",
       "      <th>Depth(km)</th>\n",
       "      <th>Mag</th>\n",
       "      <th>Distance(km)</th>\n",
       "      <th>City</th>\n",
       "      <th>Province</th>\n",
       "      <th>Zip Code</th>\n",
       "      <th>Richter Category</th>\n",
       "    </tr>\n",
       "  </thead>\n",
       "  <tbody>\n",
       "    <tr>\n",
       "      <th>0</th>\n",
       "      <td>25</td>\n",
       "      <td>4</td>\n",
       "      <td>1919</td>\n",
       "      <td>8.50</td>\n",
       "      <td>124.42</td>\n",
       "      <td>1</td>\n",
       "      <td>2.4</td>\n",
       "      <td>9</td>\n",
       "      <td>292</td>\n",
       "      <td>53</td>\n",
       "      <td>9019</td>\n",
       "      <td>0</td>\n",
       "    </tr>\n",
       "    <tr>\n",
       "      <th>1</th>\n",
       "      <td>25</td>\n",
       "      <td>4</td>\n",
       "      <td>1813</td>\n",
       "      <td>18.13</td>\n",
       "      <td>120.81</td>\n",
       "      <td>27</td>\n",
       "      <td>2.1</td>\n",
       "      <td>5</td>\n",
       "      <td>124</td>\n",
       "      <td>37</td>\n",
       "      <td>2911</td>\n",
       "      <td>0</td>\n",
       "    </tr>\n",
       "    <tr>\n",
       "      <th>2</th>\n",
       "      <td>25</td>\n",
       "      <td>4</td>\n",
       "      <td>1808</td>\n",
       "      <td>14.71</td>\n",
       "      <td>121.78</td>\n",
       "      <td>8</td>\n",
       "      <td>2.5</td>\n",
       "      <td>15</td>\n",
       "      <td>251</td>\n",
       "      <td>68</td>\n",
       "      <td>2412</td>\n",
       "      <td>0</td>\n",
       "    </tr>\n",
       "    <tr>\n",
       "      <th>3</th>\n",
       "      <td>25</td>\n",
       "      <td>4</td>\n",
       "      <td>1706</td>\n",
       "      <td>5.64</td>\n",
       "      <td>126.33</td>\n",
       "      <td>105</td>\n",
       "      <td>2.9</td>\n",
       "      <td>82</td>\n",
       "      <td>267</td>\n",
       "      <td>30</td>\n",
       "      <td>8014</td>\n",
       "      <td>0</td>\n",
       "    </tr>\n",
       "    <tr>\n",
       "      <th>4</th>\n",
       "      <td>25</td>\n",
       "      <td>4</td>\n",
       "      <td>1647</td>\n",
       "      <td>8.07</td>\n",
       "      <td>126.71</td>\n",
       "      <td>29</td>\n",
       "      <td>3.9</td>\n",
       "      <td>33</td>\n",
       "      <td>314</td>\n",
       "      <td>81</td>\n",
       "      <td>8312</td>\n",
       "      <td>0</td>\n",
       "    </tr>\n",
       "  </tbody>\n",
       "</table>\n",
       "</div>"
      ],
      "text/plain": [
       "   Day  Month  Time  Latitude(ÂºN)  Longitude(ÂºE)  Depth(km)  Mag  \\\n",
       "0   25      4  1919           8.50          124.42          1  2.4   \n",
       "1   25      4  1813          18.13          120.81         27  2.1   \n",
       "2   25      4  1808          14.71          121.78          8  2.5   \n",
       "3   25      4  1706           5.64          126.33        105  2.9   \n",
       "4   25      4  1647           8.07          126.71         29  3.9   \n",
       "\n",
       "   Distance(km)  City  Province  Zip Code  Richter Category  \n",
       "0             9   292        53      9019                 0  \n",
       "1             5   124        37      2911                 0  \n",
       "2            15   251        68      2412                 0  \n",
       "3            82   267        30      8014                 0  \n",
       "4            33   314        81      8312                 0  "
      ]
     },
     "execution_count": 4,
     "metadata": {},
     "output_type": "execute_result"
    }
   ],
   "source": [
    "data['Richter Category'] = 0\n",
    "data.head()"
   ]
  },
  {
   "cell_type": "code",
   "execution_count": 5,
   "id": "86bbc24e",
   "metadata": {},
   "outputs": [],
   "source": [
    "def getRichter(magnitude):\n",
    "    if (magnitude < 3.0):\n",
    "        return 0\n",
    "    elif (magnitude < 4.0):\n",
    "        return 1\n",
    "    elif (magnitude < 5.0):\n",
    "        return 2\n",
    "    elif (magnitude < 6.0):\n",
    "        return 3\n",
    "    elif (magnitude < 7.0):\n",
    "        return 4\n",
    "    elif (magnitude < 8.0):\n",
    "        return 5\n",
    "    else:\n",
    "        return 6"
   ]
  },
  {
   "cell_type": "code",
   "execution_count": 6,
   "id": "d09af51a",
   "metadata": {},
   "outputs": [
    {
     "data": {
      "text/html": [
       "<div>\n",
       "<style scoped>\n",
       "    .dataframe tbody tr th:only-of-type {\n",
       "        vertical-align: middle;\n",
       "    }\n",
       "\n",
       "    .dataframe tbody tr th {\n",
       "        vertical-align: top;\n",
       "    }\n",
       "\n",
       "    .dataframe thead th {\n",
       "        text-align: right;\n",
       "    }\n",
       "</style>\n",
       "<table border=\"1\" class=\"dataframe\">\n",
       "  <thead>\n",
       "    <tr style=\"text-align: right;\">\n",
       "      <th></th>\n",
       "      <th>Day</th>\n",
       "      <th>Month</th>\n",
       "      <th>Time</th>\n",
       "      <th>Latitude(ÂºN)</th>\n",
       "      <th>Longitude(ÂºE)</th>\n",
       "      <th>Depth(km)</th>\n",
       "      <th>Mag</th>\n",
       "      <th>Distance(km)</th>\n",
       "      <th>City</th>\n",
       "      <th>Province</th>\n",
       "      <th>Zip Code</th>\n",
       "      <th>Richter Category</th>\n",
       "    </tr>\n",
       "  </thead>\n",
       "  <tbody>\n",
       "    <tr>\n",
       "      <th>0</th>\n",
       "      <td>25</td>\n",
       "      <td>4</td>\n",
       "      <td>1919</td>\n",
       "      <td>8.50</td>\n",
       "      <td>124.42</td>\n",
       "      <td>1</td>\n",
       "      <td>2.4</td>\n",
       "      <td>9</td>\n",
       "      <td>292</td>\n",
       "      <td>53</td>\n",
       "      <td>9019</td>\n",
       "      <td>0</td>\n",
       "    </tr>\n",
       "    <tr>\n",
       "      <th>1</th>\n",
       "      <td>25</td>\n",
       "      <td>4</td>\n",
       "      <td>1813</td>\n",
       "      <td>18.13</td>\n",
       "      <td>120.81</td>\n",
       "      <td>27</td>\n",
       "      <td>2.1</td>\n",
       "      <td>5</td>\n",
       "      <td>124</td>\n",
       "      <td>37</td>\n",
       "      <td>2911</td>\n",
       "      <td>0</td>\n",
       "    </tr>\n",
       "    <tr>\n",
       "      <th>2</th>\n",
       "      <td>25</td>\n",
       "      <td>4</td>\n",
       "      <td>1808</td>\n",
       "      <td>14.71</td>\n",
       "      <td>121.78</td>\n",
       "      <td>8</td>\n",
       "      <td>2.5</td>\n",
       "      <td>15</td>\n",
       "      <td>251</td>\n",
       "      <td>68</td>\n",
       "      <td>2412</td>\n",
       "      <td>0</td>\n",
       "    </tr>\n",
       "    <tr>\n",
       "      <th>3</th>\n",
       "      <td>25</td>\n",
       "      <td>4</td>\n",
       "      <td>1706</td>\n",
       "      <td>5.64</td>\n",
       "      <td>126.33</td>\n",
       "      <td>105</td>\n",
       "      <td>2.9</td>\n",
       "      <td>82</td>\n",
       "      <td>267</td>\n",
       "      <td>30</td>\n",
       "      <td>8014</td>\n",
       "      <td>0</td>\n",
       "    </tr>\n",
       "    <tr>\n",
       "      <th>4</th>\n",
       "      <td>25</td>\n",
       "      <td>4</td>\n",
       "      <td>1647</td>\n",
       "      <td>8.07</td>\n",
       "      <td>126.71</td>\n",
       "      <td>29</td>\n",
       "      <td>3.9</td>\n",
       "      <td>33</td>\n",
       "      <td>314</td>\n",
       "      <td>81</td>\n",
       "      <td>8312</td>\n",
       "      <td>1</td>\n",
       "    </tr>\n",
       "  </tbody>\n",
       "</table>\n",
       "</div>"
      ],
      "text/plain": [
       "   Day  Month  Time  Latitude(ÂºN)  Longitude(ÂºE)  Depth(km)  Mag  \\\n",
       "0   25      4  1919           8.50          124.42          1  2.4   \n",
       "1   25      4  1813          18.13          120.81         27  2.1   \n",
       "2   25      4  1808          14.71          121.78          8  2.5   \n",
       "3   25      4  1706           5.64          126.33        105  2.9   \n",
       "4   25      4  1647           8.07          126.71         29  3.9   \n",
       "\n",
       "   Distance(km)  City  Province  Zip Code  Richter Category  \n",
       "0             9   292        53      9019                 0  \n",
       "1             5   124        37      2911                 0  \n",
       "2            15   251        68      2412                 0  \n",
       "3            82   267        30      8014                 0  \n",
       "4            33   314        81      8312                 1  "
      ]
     },
     "execution_count": 6,
     "metadata": {},
     "output_type": "execute_result"
    }
   ],
   "source": [
    "for index, row in data.iterrows():\n",
    "    data.loc[index, 'Richter Category'] = getRichter(row['Mag'])\n",
    "data.head()"
   ]
  },
  {
   "cell_type": "code",
   "execution_count": 7,
   "id": "1af5df24",
   "metadata": {},
   "outputs": [
    {
     "data": {
      "text/html": [
       "<div>\n",
       "<style scoped>\n",
       "    .dataframe tbody tr th:only-of-type {\n",
       "        vertical-align: middle;\n",
       "    }\n",
       "\n",
       "    .dataframe tbody tr th {\n",
       "        vertical-align: top;\n",
       "    }\n",
       "\n",
       "    .dataframe thead th {\n",
       "        text-align: right;\n",
       "    }\n",
       "</style>\n",
       "<table border=\"1\" class=\"dataframe\">\n",
       "  <thead>\n",
       "    <tr style=\"text-align: right;\">\n",
       "      <th></th>\n",
       "      <th>Day</th>\n",
       "      <th>Month</th>\n",
       "      <th>Time</th>\n",
       "      <th>Latitude(ÂºN)</th>\n",
       "      <th>Longitude(ÂºE)</th>\n",
       "      <th>Depth(km)</th>\n",
       "      <th>Mag</th>\n",
       "      <th>Distance(km)</th>\n",
       "      <th>City</th>\n",
       "      <th>Province</th>\n",
       "      <th>Zip Code</th>\n",
       "      <th>Richter Category</th>\n",
       "    </tr>\n",
       "  </thead>\n",
       "  <tbody>\n",
       "    <tr>\n",
       "      <th>count</th>\n",
       "      <td>6170.000000</td>\n",
       "      <td>6170.000000</td>\n",
       "      <td>6170.000000</td>\n",
       "      <td>6170.000000</td>\n",
       "      <td>6170.000000</td>\n",
       "      <td>6170.000000</td>\n",
       "      <td>6170.000000</td>\n",
       "      <td>6170.000000</td>\n",
       "      <td>6170.000000</td>\n",
       "      <td>6170.000000</td>\n",
       "      <td>6170.000000</td>\n",
       "      <td>6170.000000</td>\n",
       "    </tr>\n",
       "    <tr>\n",
       "      <th>mean</th>\n",
       "      <td>14.431767</td>\n",
       "      <td>2.345543</td>\n",
       "      <td>1230.412642</td>\n",
       "      <td>10.028420</td>\n",
       "      <td>124.899381</td>\n",
       "      <td>28.091410</td>\n",
       "      <td>2.416224</td>\n",
       "      <td>37.751540</td>\n",
       "      <td>267.015883</td>\n",
       "      <td>57.754619</td>\n",
       "      <td>6802.970016</td>\n",
       "      <td>0.247164</td>\n",
       "    </tr>\n",
       "    <tr>\n",
       "      <th>std</th>\n",
       "      <td>8.563833</td>\n",
       "      <td>1.111057</td>\n",
       "      <td>749.904752</td>\n",
       "      <td>3.620895</td>\n",
       "      <td>2.371969</td>\n",
       "      <td>33.602533</td>\n",
       "      <td>0.711643</td>\n",
       "      <td>44.809418</td>\n",
       "      <td>142.661262</td>\n",
       "      <td>26.932841</td>\n",
       "      <td>2257.336497</td>\n",
       "      <td>0.533840</td>\n",
       "    </tr>\n",
       "    <tr>\n",
       "      <th>min</th>\n",
       "      <td>1.000000</td>\n",
       "      <td>1.000000</td>\n",
       "      <td>100.000000</td>\n",
       "      <td>1.930000</td>\n",
       "      <td>118.550000</td>\n",
       "      <td>0.000000</td>\n",
       "      <td>1.100000</td>\n",
       "      <td>0.000000</td>\n",
       "      <td>0.000000</td>\n",
       "      <td>0.000000</td>\n",
       "      <td>1005.000000</td>\n",
       "      <td>0.000000</td>\n",
       "    </tr>\n",
       "    <tr>\n",
       "      <th>25%</th>\n",
       "      <td>7.000000</td>\n",
       "      <td>1.000000</td>\n",
       "      <td>511.250000</td>\n",
       "      <td>8.150000</td>\n",
       "      <td>123.170000</td>\n",
       "      <td>9.000000</td>\n",
       "      <td>1.900000</td>\n",
       "      <td>11.000000</td>\n",
       "      <td>164.000000</td>\n",
       "      <td>31.000000</td>\n",
       "      <td>5107.000000</td>\n",
       "      <td>0.000000</td>\n",
       "    </tr>\n",
       "    <tr>\n",
       "      <th>50%</th>\n",
       "      <td>14.000000</td>\n",
       "      <td>2.000000</td>\n",
       "      <td>1222.000000</td>\n",
       "      <td>8.760000</td>\n",
       "      <td>126.120000</td>\n",
       "      <td>22.000000</td>\n",
       "      <td>2.300000</td>\n",
       "      <td>23.000000</td>\n",
       "      <td>242.000000</td>\n",
       "      <td>73.000000</td>\n",
       "      <td>8210.000000</td>\n",
       "      <td>0.000000</td>\n",
       "    </tr>\n",
       "    <tr>\n",
       "      <th>75%</th>\n",
       "      <td>21.000000</td>\n",
       "      <td>3.000000</td>\n",
       "      <td>1932.000000</td>\n",
       "      <td>11.830000</td>\n",
       "      <td>126.610000</td>\n",
       "      <td>32.000000</td>\n",
       "      <td>2.800000</td>\n",
       "      <td>51.000000</td>\n",
       "      <td>364.000000</td>\n",
       "      <td>81.000000</td>\n",
       "      <td>8311.000000</td>\n",
       "      <td>0.000000</td>\n",
       "    </tr>\n",
       "    <tr>\n",
       "      <th>max</th>\n",
       "      <td>31.000000</td>\n",
       "      <td>4.000000</td>\n",
       "      <td>2459.000000</td>\n",
       "      <td>23.800000</td>\n",
       "      <td>128.440000</td>\n",
       "      <td>543.000000</td>\n",
       "      <td>7.500000</td>\n",
       "      <td>472.000000</td>\n",
       "      <td>588.000000</td>\n",
       "      <td>88.000000</td>\n",
       "      <td>9811.000000</td>\n",
       "      <td>5.000000</td>\n",
       "    </tr>\n",
       "  </tbody>\n",
       "</table>\n",
       "</div>"
      ],
      "text/plain": [
       "               Day        Month         Time  Latitude(ÂºN)  Longitude(ÂºE)  \\\n",
       "count  6170.000000  6170.000000  6170.000000    6170.000000     6170.000000   \n",
       "mean     14.431767     2.345543  1230.412642      10.028420      124.899381   \n",
       "std       8.563833     1.111057   749.904752       3.620895        2.371969   \n",
       "min       1.000000     1.000000   100.000000       1.930000      118.550000   \n",
       "25%       7.000000     1.000000   511.250000       8.150000      123.170000   \n",
       "50%      14.000000     2.000000  1222.000000       8.760000      126.120000   \n",
       "75%      21.000000     3.000000  1932.000000      11.830000      126.610000   \n",
       "max      31.000000     4.000000  2459.000000      23.800000      128.440000   \n",
       "\n",
       "         Depth(km)          Mag  Distance(km)         City     Province  \\\n",
       "count  6170.000000  6170.000000   6170.000000  6170.000000  6170.000000   \n",
       "mean     28.091410     2.416224     37.751540   267.015883    57.754619   \n",
       "std      33.602533     0.711643     44.809418   142.661262    26.932841   \n",
       "min       0.000000     1.100000      0.000000     0.000000     0.000000   \n",
       "25%       9.000000     1.900000     11.000000   164.000000    31.000000   \n",
       "50%      22.000000     2.300000     23.000000   242.000000    73.000000   \n",
       "75%      32.000000     2.800000     51.000000   364.000000    81.000000   \n",
       "max     543.000000     7.500000    472.000000   588.000000    88.000000   \n",
       "\n",
       "          Zip Code  Richter Category  \n",
       "count  6170.000000       6170.000000  \n",
       "mean   6802.970016          0.247164  \n",
       "std    2257.336497          0.533840  \n",
       "min    1005.000000          0.000000  \n",
       "25%    5107.000000          0.000000  \n",
       "50%    8210.000000          0.000000  \n",
       "75%    8311.000000          0.000000  \n",
       "max    9811.000000          5.000000  "
      ]
     },
     "execution_count": 7,
     "metadata": {},
     "output_type": "execute_result"
    }
   ],
   "source": [
    "data.describe()  #display the summarized info of dataset"
   ]
  },
  {
   "cell_type": "code",
   "execution_count": 8,
   "id": "dbe39baa",
   "metadata": {},
   "outputs": [
    {
     "data": {
      "image/png": "[encoded data removed]",
      "text/plain": [
       "<Figure size 640x480 with 1 Axes>"
      ]
     },
     "metadata": {},
     "output_type": "display_data"
    }
   ],
   "source": [
    "import matplotlib.pyplot as plt\n",
    "\n",
    "data['Richter Category'].hist()  # Adjust bins as needed for better visualization\n",
    "plt.xlabel('Values')\n",
    "plt.ylabel('Frequency')\n",
    "plt.title('Distribution of values')\n",
    "plt.grid(True)\n",
    "plt.show()"
   ]
  },
  {
   "cell_type": "code",
   "execution_count": 9,
   "id": "e3b63d03",
   "metadata": {},
   "outputs": [
    {
     "data": {
      "image/png": "[encoded data removed]",
      "text/plain": [
       "<Figure size 640x480 with 1 Axes>"
      ]
     },
     "metadata": {},
     "output_type": "display_data"
    }
   ],
   "source": [
    "data.boxplot(column='Richter Category', by='Month')\n",
    "plt.title('Distribution of values')\n",
    "plt.grid(True)\n",
    "plt.show()"
   ]
  },
  {
   "cell_type": "markdown",
   "id": "c6513c81",
   "metadata": {},
   "source": [
    "In here we can see that most of our earthquakes are very micro ones that does not really straightforwardly affect people"
   ]
  },
  {
   "cell_type": "code",
   "execution_count": 10,
   "id": "6a5ec879",
   "metadata": {},
   "outputs": [],
   "source": [
    "X = data.drop(['Richter Category', 'Mag', 'Depth(km)', 'Distance(km)'], axis=1)\n",
    "y = data['Richter Category']"
   ]
  },
  {
   "cell_type": "code",
   "execution_count": 11,
   "id": "aac0ccbd",
   "metadata": {},
   "outputs": [
    {
     "data": {
      "text/plain": [
       "Index(['Day', 'Month', 'Time', 'Latitude(ÂºN)', 'Longitude(ÂºE)', 'City',\n",
       "       'Province', 'Zip Code'],\n",
       "      dtype='object')"
      ]
     },
     "execution_count": 11,
     "metadata": {},
     "output_type": "execute_result"
    }
   ],
   "source": [
    "X.columns  #display X columns"
   ]
  },
  {
   "cell_type": "code",
   "execution_count": 12,
   "id": "00e61df5",
   "metadata": {},
   "outputs": [
    {
     "data": {
      "text/html": [
       "<div>\n",
       "<style scoped>\n",
       "    .dataframe tbody tr th:only-of-type {\n",
       "        vertical-align: middle;\n",
       "    }\n",
       "\n",
       "    .dataframe tbody tr th {\n",
       "        vertical-align: top;\n",
       "    }\n",
       "\n",
       "    .dataframe thead th {\n",
       "        text-align: right;\n",
       "    }\n",
       "</style>\n",
       "<table border=\"1\" class=\"dataframe\">\n",
       "  <thead>\n",
       "    <tr style=\"text-align: right;\">\n",
       "      <th></th>\n",
       "      <th>Day</th>\n",
       "      <th>Month</th>\n",
       "      <th>Time</th>\n",
       "      <th>Latitude(ÂºN)</th>\n",
       "      <th>Longitude(ÂºE)</th>\n",
       "      <th>City</th>\n",
       "      <th>Province</th>\n",
       "      <th>Zip Code</th>\n",
       "    </tr>\n",
       "  </thead>\n",
       "  <tbody>\n",
       "    <tr>\n",
       "      <th>0</th>\n",
       "      <td>25</td>\n",
       "      <td>4</td>\n",
       "      <td>1919</td>\n",
       "      <td>8.50</td>\n",
       "      <td>124.42</td>\n",
       "      <td>292</td>\n",
       "      <td>53</td>\n",
       "      <td>9019</td>\n",
       "    </tr>\n",
       "    <tr>\n",
       "      <th>1</th>\n",
       "      <td>25</td>\n",
       "      <td>4</td>\n",
       "      <td>1813</td>\n",
       "      <td>18.13</td>\n",
       "      <td>120.81</td>\n",
       "      <td>124</td>\n",
       "      <td>37</td>\n",
       "      <td>2911</td>\n",
       "    </tr>\n",
       "    <tr>\n",
       "      <th>2</th>\n",
       "      <td>25</td>\n",
       "      <td>4</td>\n",
       "      <td>1808</td>\n",
       "      <td>14.71</td>\n",
       "      <td>121.78</td>\n",
       "      <td>251</td>\n",
       "      <td>68</td>\n",
       "      <td>2412</td>\n",
       "    </tr>\n",
       "    <tr>\n",
       "      <th>3</th>\n",
       "      <td>25</td>\n",
       "      <td>4</td>\n",
       "      <td>1706</td>\n",
       "      <td>5.64</td>\n",
       "      <td>126.33</td>\n",
       "      <td>267</td>\n",
       "      <td>30</td>\n",
       "      <td>8014</td>\n",
       "    </tr>\n",
       "    <tr>\n",
       "      <th>4</th>\n",
       "      <td>25</td>\n",
       "      <td>4</td>\n",
       "      <td>1647</td>\n",
       "      <td>8.07</td>\n",
       "      <td>126.71</td>\n",
       "      <td>314</td>\n",
       "      <td>81</td>\n",
       "      <td>8312</td>\n",
       "    </tr>\n",
       "  </tbody>\n",
       "</table>\n",
       "</div>"
      ],
      "text/plain": [
       "   Day  Month  Time  Latitude(ÂºN)  Longitude(ÂºE)  City  Province  Zip Code\n",
       "0   25      4  1919           8.50          124.42   292        53      9019\n",
       "1   25      4  1813          18.13          120.81   124        37      2911\n",
       "2   25      4  1808          14.71          121.78   251        68      2412\n",
       "3   25      4  1706           5.64          126.33   267        30      8014\n",
       "4   25      4  1647           8.07          126.71   314        81      8312"
      ]
     },
     "execution_count": 12,
     "metadata": {},
     "output_type": "execute_result"
    }
   ],
   "source": [
    "X.head()"
   ]
  },
  {
   "cell_type": "code",
   "execution_count": 13,
   "id": "c90eedbf",
   "metadata": {},
   "outputs": [
    {
     "data": {
      "text/plain": [
       "0    0\n",
       "1    0\n",
       "2    0\n",
       "3    0\n",
       "4    1\n",
       "Name: Richter Category, dtype: int64"
      ]
     },
     "execution_count": 13,
     "metadata": {},
     "output_type": "execute_result"
    }
   ],
   "source": [
    "y.head()"
   ]
  },
  {
   "cell_type": "code",
   "execution_count": 14,
   "id": "adb901ef",
   "metadata": {},
   "outputs": [
    {
     "data": {
      "text/html": [
       "<div>\n",
       "<style scoped>\n",
       "    .dataframe tbody tr th:only-of-type {\n",
       "        vertical-align: middle;\n",
       "    }\n",
       "\n",
       "    .dataframe tbody tr th {\n",
       "        vertical-align: top;\n",
       "    }\n",
       "\n",
       "    .dataframe thead th {\n",
       "        text-align: right;\n",
       "    }\n",
       "</style>\n",
       "<table border=\"1\" class=\"dataframe\">\n",
       "  <thead>\n",
       "    <tr style=\"text-align: right;\">\n",
       "      <th></th>\n",
       "      <th>Day</th>\n",
       "      <th>Month</th>\n",
       "      <th>Time</th>\n",
       "      <th>Latitude(ÂºN)</th>\n",
       "      <th>Longitude(ÂºE)</th>\n",
       "      <th>City</th>\n",
       "      <th>Province</th>\n",
       "      <th>Zip Code</th>\n",
       "    </tr>\n",
       "  </thead>\n",
       "  <tbody>\n",
       "    <tr>\n",
       "      <th>0</th>\n",
       "      <td>1.234154</td>\n",
       "      <td>1.489205</td>\n",
       "      <td>0.918308</td>\n",
       "      <td>-0.422145</td>\n",
       "      <td>-0.202119</td>\n",
       "      <td>0.175143</td>\n",
       "      <td>-0.176550</td>\n",
       "      <td>0.981781</td>\n",
       "    </tr>\n",
       "    <tr>\n",
       "      <th>1</th>\n",
       "      <td>1.234154</td>\n",
       "      <td>1.489205</td>\n",
       "      <td>0.776945</td>\n",
       "      <td>2.237634</td>\n",
       "      <td>-1.724184</td>\n",
       "      <td>-1.002567</td>\n",
       "      <td>-0.770669</td>\n",
       "      <td>-1.724282</td>\n",
       "    </tr>\n",
       "    <tr>\n",
       "      <th>2</th>\n",
       "      <td>1.234154</td>\n",
       "      <td>1.489205</td>\n",
       "      <td>0.770277</td>\n",
       "      <td>1.293039</td>\n",
       "      <td>-1.315208</td>\n",
       "      <td>-0.112274</td>\n",
       "      <td>0.380436</td>\n",
       "      <td>-1.945357</td>\n",
       "    </tr>\n",
       "    <tr>\n",
       "      <th>3</th>\n",
       "      <td>1.234154</td>\n",
       "      <td>1.489205</td>\n",
       "      <td>0.634248</td>\n",
       "      <td>-1.212069</td>\n",
       "      <td>0.603184</td>\n",
       "      <td>-0.000111</td>\n",
       "      <td>-1.030596</td>\n",
       "      <td>0.536530</td>\n",
       "    </tr>\n",
       "    <tr>\n",
       "      <th>4</th>\n",
       "      <td>1.234154</td>\n",
       "      <td>1.489205</td>\n",
       "      <td>0.555565</td>\n",
       "      <td>-0.540910</td>\n",
       "      <td>0.763402</td>\n",
       "      <td>0.329367</td>\n",
       "      <td>0.863157</td>\n",
       "      <td>0.668554</td>\n",
       "    </tr>\n",
       "  </tbody>\n",
       "</table>\n",
       "</div>"
      ],
      "text/plain": [
       "        Day     Month      Time  Latitude(ÂºN)  Longitude(ÂºE)      City  \\\n",
       "0  1.234154  1.489205  0.918308      -0.422145       -0.202119  0.175143   \n",
       "1  1.234154  1.489205  0.776945       2.237634       -1.724184 -1.002567   \n",
       "2  1.234154  1.489205  0.770277       1.293039       -1.315208 -0.112274   \n",
       "3  1.234154  1.489205  0.634248      -1.212069        0.603184 -0.000111   \n",
       "4  1.234154  1.489205  0.555565      -0.540910        0.763402  0.329367   \n",
       "\n",
       "   Province  Zip Code  \n",
       "0 -0.176550  0.981781  \n",
       "1 -0.770669 -1.724282  \n",
       "2  0.380436 -1.945357  \n",
       "3 -1.030596  0.536530  \n",
       "4  0.863157  0.668554  "
      ]
     },
     "execution_count": 14,
     "metadata": {},
     "output_type": "execute_result"
    }
   ],
   "source": [
    "from sklearn.preprocessing import StandardScaler\n",
    "for feature in X.columns:\n",
    "    scaler = StandardScaler()\n",
    "    X[[feature]] = scaler.fit_transform(X[[feature]])\n",
    "X.head()"
   ]
  },
  {
   "cell_type": "code",
   "execution_count": 15,
   "id": "56720805",
   "metadata": {},
   "outputs": [
    {
     "data": {
      "text/plain": [
       "(6170, 8)"
      ]
     },
     "execution_count": 15,
     "metadata": {},
     "output_type": "execute_result"
    }
   ],
   "source": [
    "X.shape"
   ]
  },
  {
   "cell_type": "code",
   "execution_count": 16,
   "id": "d6cadc5c",
   "metadata": {},
   "outputs": [
    {
     "data": {
      "text/html": [
       "<div>\n",
       "<style scoped>\n",
       "    .dataframe tbody tr th:only-of-type {\n",
       "        vertical-align: middle;\n",
       "    }\n",
       "\n",
       "    .dataframe tbody tr th {\n",
       "        vertical-align: top;\n",
       "    }\n",
       "\n",
       "    .dataframe thead th {\n",
       "        text-align: right;\n",
       "    }\n",
       "</style>\n",
       "<table border=\"1\" class=\"dataframe\">\n",
       "  <thead>\n",
       "    <tr style=\"text-align: right;\">\n",
       "      <th></th>\n",
       "      <th>Day</th>\n",
       "      <th>Month</th>\n",
       "      <th>Time</th>\n",
       "      <th>Latitude(ÂºN)</th>\n",
       "      <th>Longitude(ÂºE)</th>\n",
       "      <th>City</th>\n",
       "      <th>Province</th>\n",
       "      <th>Zip Code</th>\n",
       "    </tr>\n",
       "  </thead>\n",
       "  <tbody>\n",
       "    <tr>\n",
       "      <th>0</th>\n",
       "      <td>1.234154</td>\n",
       "      <td>1.489205</td>\n",
       "      <td>0.918308</td>\n",
       "      <td>-0.422145</td>\n",
       "      <td>-0.202119</td>\n",
       "      <td>0.175143</td>\n",
       "      <td>-0.176550</td>\n",
       "      <td>0.981781</td>\n",
       "    </tr>\n",
       "    <tr>\n",
       "      <th>1</th>\n",
       "      <td>1.234154</td>\n",
       "      <td>1.489205</td>\n",
       "      <td>0.776945</td>\n",
       "      <td>2.237634</td>\n",
       "      <td>-1.724184</td>\n",
       "      <td>-1.002567</td>\n",
       "      <td>-0.770669</td>\n",
       "      <td>-1.724282</td>\n",
       "    </tr>\n",
       "    <tr>\n",
       "      <th>2</th>\n",
       "      <td>1.234154</td>\n",
       "      <td>1.489205</td>\n",
       "      <td>0.770277</td>\n",
       "      <td>1.293039</td>\n",
       "      <td>-1.315208</td>\n",
       "      <td>-0.112274</td>\n",
       "      <td>0.380436</td>\n",
       "      <td>-1.945357</td>\n",
       "    </tr>\n",
       "    <tr>\n",
       "      <th>3</th>\n",
       "      <td>1.234154</td>\n",
       "      <td>1.489205</td>\n",
       "      <td>0.634248</td>\n",
       "      <td>-1.212069</td>\n",
       "      <td>0.603184</td>\n",
       "      <td>-0.000111</td>\n",
       "      <td>-1.030596</td>\n",
       "      <td>0.536530</td>\n",
       "    </tr>\n",
       "    <tr>\n",
       "      <th>4</th>\n",
       "      <td>1.234154</td>\n",
       "      <td>1.489205</td>\n",
       "      <td>0.555565</td>\n",
       "      <td>-0.540910</td>\n",
       "      <td>0.763402</td>\n",
       "      <td>0.329367</td>\n",
       "      <td>0.863157</td>\n",
       "      <td>0.668554</td>\n",
       "    </tr>\n",
       "  </tbody>\n",
       "</table>\n",
       "</div>"
      ],
      "text/plain": [
       "        Day     Month      Time  Latitude(ÂºN)  Longitude(ÂºE)      City  \\\n",
       "0  1.234154  1.489205  0.918308      -0.422145       -0.202119  0.175143   \n",
       "1  1.234154  1.489205  0.776945       2.237634       -1.724184 -1.002567   \n",
       "2  1.234154  1.489205  0.770277       1.293039       -1.315208 -0.112274   \n",
       "3  1.234154  1.489205  0.634248      -1.212069        0.603184 -0.000111   \n",
       "4  1.234154  1.489205  0.555565      -0.540910        0.763402  0.329367   \n",
       "\n",
       "   Province  Zip Code  \n",
       "0 -0.176550  0.981781  \n",
       "1 -0.770669 -1.724282  \n",
       "2  0.380436 -1.945357  \n",
       "3 -1.030596  0.536530  \n",
       "4  0.863157  0.668554  "
      ]
     },
     "execution_count": 16,
     "metadata": {},
     "output_type": "execute_result"
    }
   ],
   "source": [
    "X.head()"
   ]
  },
  {
   "cell_type": "code",
   "execution_count": 17,
   "id": "b651c803",
   "metadata": {},
   "outputs": [],
   "source": [
    "from sklearn.model_selection import train_test_split  #import sci-kit learn library to split train & test data\n",
    "X_train,X_test,y_train,y_test = train_test_split(X,y,test_size=0.30,random_state=0)"
   ]
  },
  {
   "cell_type": "code",
   "execution_count": 18,
   "id": "fb053c16",
   "metadata": {},
   "outputs": [
    {
     "data": {
      "text/plain": [
       "((4319, 8), (4319,))"
      ]
     },
     "execution_count": 18,
     "metadata": {},
     "output_type": "execute_result"
    }
   ],
   "source": [
    "X_train.shape, y_train.shape  #display X_train and y_train shape"
   ]
  },
  {
   "cell_type": "code",
   "execution_count": 19,
   "id": "fbff3729",
   "metadata": {},
   "outputs": [
    {
     "data": {
      "text/plain": [
       "((1851, 8), (1851,))"
      ]
     },
     "execution_count": 19,
     "metadata": {},
     "output_type": "execute_result"
    }
   ],
   "source": [
    "X_test.shape, y_test.shape  #display X_test and y_test shape"
   ]
  },
  {
   "cell_type": "code",
   "execution_count": 20,
   "id": "c68e6d34",
   "metadata": {},
   "outputs": [
    {
     "data": {
      "text/html": [
       "<div>\n",
       "<style scoped>\n",
       "    .dataframe tbody tr th:only-of-type {\n",
       "        vertical-align: middle;\n",
       "    }\n",
       "\n",
       "    .dataframe tbody tr th {\n",
       "        vertical-align: top;\n",
       "    }\n",
       "\n",
       "    .dataframe thead th {\n",
       "        text-align: right;\n",
       "    }\n",
       "</style>\n",
       "<table border=\"1\" class=\"dataframe\">\n",
       "  <thead>\n",
       "    <tr style=\"text-align: right;\">\n",
       "      <th></th>\n",
       "      <th>Day</th>\n",
       "      <th>Month</th>\n",
       "      <th>Time</th>\n",
       "      <th>Latitude(ÂºN)</th>\n",
       "      <th>Longitude(ÂºE)</th>\n",
       "      <th>City</th>\n",
       "      <th>Province</th>\n",
       "      <th>Zip Code</th>\n",
       "    </tr>\n",
       "  </thead>\n",
       "  <tbody>\n",
       "    <tr>\n",
       "      <th>450</th>\n",
       "      <td>0.183138</td>\n",
       "      <td>1.489205</td>\n",
       "      <td>0.498220</td>\n",
       "      <td>-0.485671</td>\n",
       "      <td>0.708591</td>\n",
       "      <td>-0.175366</td>\n",
       "      <td>0.863157</td>\n",
       "      <td>0.667668</td>\n",
       "    </tr>\n",
       "    <tr>\n",
       "      <th>619</th>\n",
       "      <td>-0.167201</td>\n",
       "      <td>1.489205</td>\n",
       "      <td>1.032998</td>\n",
       "      <td>-0.400050</td>\n",
       "      <td>0.582103</td>\n",
       "      <td>-1.395137</td>\n",
       "      <td>0.863157</td>\n",
       "      <td>0.667225</td>\n",
       "    </tr>\n",
       "    <tr>\n",
       "      <th>1288</th>\n",
       "      <td>1.701273</td>\n",
       "      <td>-1.211146</td>\n",
       "      <td>0.242167</td>\n",
       "      <td>-0.626531</td>\n",
       "      <td>0.337561</td>\n",
       "      <td>1.450996</td>\n",
       "      <td>-1.104860</td>\n",
       "      <td>-2.467253</td>\n",
       "    </tr>\n",
       "    <tr>\n",
       "      <th>1928</th>\n",
       "      <td>0.183138</td>\n",
       "      <td>-1.211146</td>\n",
       "      <td>1.183696</td>\n",
       "      <td>-0.389002</td>\n",
       "      <td>0.830862</td>\n",
       "      <td>-0.175366</td>\n",
       "      <td>0.863157</td>\n",
       "      <td>0.667668</td>\n",
       "    </tr>\n",
       "    <tr>\n",
       "      <th>1247</th>\n",
       "      <td>1.934832</td>\n",
       "      <td>-1.211146</td>\n",
       "      <td>-1.182129</td>\n",
       "      <td>2.732027</td>\n",
       "      <td>-1.344722</td>\n",
       "      <td>1.324813</td>\n",
       "      <td>-1.698979</td>\n",
       "      <td>-1.284348</td>\n",
       "    </tr>\n",
       "  </tbody>\n",
       "</table>\n",
       "</div>"
      ],
      "text/plain": [
       "           Day     Month      Time  Latitude(ÂºN)  Longitude(ÂºE)      City  \\\n",
       "450   0.183138  1.489205  0.498220      -0.485671        0.708591 -0.175366   \n",
       "619  -0.167201  1.489205  1.032998      -0.400050        0.582103 -1.395137   \n",
       "1288  1.701273 -1.211146  0.242167      -0.626531        0.337561  1.450996   \n",
       "1928  0.183138 -1.211146  1.183696      -0.389002        0.830862 -0.175366   \n",
       "1247  1.934832 -1.211146 -1.182129       2.732027       -1.344722  1.324813   \n",
       "\n",
       "      Province  Zip Code  \n",
       "450   0.863157  0.667668  \n",
       "619   0.863157  0.667225  \n",
       "1288 -1.104860 -2.467253  \n",
       "1928  0.863157  0.667668  \n",
       "1247 -1.698979 -1.284348  "
      ]
     },
     "execution_count": 20,
     "metadata": {},
     "output_type": "execute_result"
    }
   ],
   "source": [
    "X_train.head()"
   ]
  },
  {
   "cell_type": "code",
   "execution_count": 21,
   "id": "4bcfd155",
   "metadata": {},
   "outputs": [
    {
     "data": {
      "text/plain": [
       "450     0\n",
       "619     0\n",
       "1288    0\n",
       "1928    0\n",
       "1247    0\n",
       "Name: Richter Category, dtype: int64"
      ]
     },
     "execution_count": 21,
     "metadata": {},
     "output_type": "execute_result"
    }
   ],
   "source": [
    "y_train.head()"
   ]
  },
  {
   "cell_type": "code",
   "execution_count": 22,
   "id": "53d9b23c",
   "metadata": {},
   "outputs": [
    {
     "data": {
      "text/html": [
       "<div>\n",
       "<style scoped>\n",
       "    .dataframe tbody tr th:only-of-type {\n",
       "        vertical-align: middle;\n",
       "    }\n",
       "\n",
       "    .dataframe tbody tr th {\n",
       "        vertical-align: top;\n",
       "    }\n",
       "\n",
       "    .dataframe thead th {\n",
       "        text-align: right;\n",
       "    }\n",
       "</style>\n",
       "<table border=\"1\" class=\"dataframe\">\n",
       "  <thead>\n",
       "    <tr style=\"text-align: right;\">\n",
       "      <th></th>\n",
       "      <th>Day</th>\n",
       "      <th>Month</th>\n",
       "      <th>Time</th>\n",
       "      <th>Latitude(ÂºN)</th>\n",
       "      <th>Longitude(ÂºE)</th>\n",
       "      <th>City</th>\n",
       "      <th>Province</th>\n",
       "      <th>Zip Code</th>\n",
       "    </tr>\n",
       "  </thead>\n",
       "  <tbody>\n",
       "    <tr>\n",
       "      <th>5083</th>\n",
       "      <td>0.767036</td>\n",
       "      <td>0.589088</td>\n",
       "      <td>-1.058104</td>\n",
       "      <td>-0.960730</td>\n",
       "      <td>0.434535</td>\n",
       "      <td>-0.238457</td>\n",
       "      <td>-0.993463</td>\n",
       "      <td>0.623365</td>\n",
       "    </tr>\n",
       "    <tr>\n",
       "      <th>3847</th>\n",
       "      <td>-0.050422</td>\n",
       "      <td>-0.311029</td>\n",
       "      <td>0.438208</td>\n",
       "      <td>-0.474623</td>\n",
       "      <td>0.725456</td>\n",
       "      <td>-0.175366</td>\n",
       "      <td>0.863157</td>\n",
       "      <td>0.667668</td>\n",
       "    </tr>\n",
       "    <tr>\n",
       "      <th>4528</th>\n",
       "      <td>-1.568556</td>\n",
       "      <td>-0.311029</td>\n",
       "      <td>1.069006</td>\n",
       "      <td>0.931221</td>\n",
       "      <td>-1.327857</td>\n",
       "      <td>-1.325035</td>\n",
       "      <td>-0.287948</td>\n",
       "      <td>-0.843084</td>\n",
       "    </tr>\n",
       "    <tr>\n",
       "      <th>2526</th>\n",
       "      <td>-0.867879</td>\n",
       "      <td>-1.211146</td>\n",
       "      <td>0.830289</td>\n",
       "      <td>-0.355858</td>\n",
       "      <td>0.632698</td>\n",
       "      <td>0.679876</td>\n",
       "      <td>0.863157</td>\n",
       "      <td>0.665896</td>\n",
       "    </tr>\n",
       "    <tr>\n",
       "      <th>5349</th>\n",
       "      <td>0.299917</td>\n",
       "      <td>0.589088</td>\n",
       "      <td>-1.500862</td>\n",
       "      <td>0.779313</td>\n",
       "      <td>-0.813475</td>\n",
       "      <td>-0.659068</td>\n",
       "      <td>-0.250815</td>\n",
       "      <td>-1.454917</td>\n",
       "    </tr>\n",
       "  </tbody>\n",
       "</table>\n",
       "</div>"
      ],
      "text/plain": [
       "           Day     Month      Time  Latitude(ÂºN)  Longitude(ÂºE)      City  \\\n",
       "5083  0.767036  0.589088 -1.058104      -0.960730        0.434535 -0.238457   \n",
       "3847 -0.050422 -0.311029  0.438208      -0.474623        0.725456 -0.175366   \n",
       "4528 -1.568556 -0.311029  1.069006       0.931221       -1.327857 -1.325035   \n",
       "2526 -0.867879 -1.211146  0.830289      -0.355858        0.632698  0.679876   \n",
       "5349  0.299917  0.589088 -1.500862       0.779313       -0.813475 -0.659068   \n",
       "\n",
       "      Province  Zip Code  \n",
       "5083 -0.993463  0.623365  \n",
       "3847  0.863157  0.667668  \n",
       "4528 -0.287948 -0.843084  \n",
       "2526  0.863157  0.665896  \n",
       "5349 -0.250815 -1.454917  "
      ]
     },
     "execution_count": 22,
     "metadata": {},
     "output_type": "execute_result"
    }
   ],
   "source": [
    "X_test.head()"
   ]
  },
  {
   "cell_type": "code",
   "execution_count": 23,
   "id": "6ade2ac4",
   "metadata": {},
   "outputs": [
    {
     "data": {
      "text/plain": [
       "5083    0\n",
       "3847    2\n",
       "4528    0\n",
       "2526    0\n",
       "5349    0\n",
       "Name: Richter Category, dtype: int64"
      ]
     },
     "execution_count": 23,
     "metadata": {},
     "output_type": "execute_result"
    }
   ],
   "source": [
    "y_test.head()"
   ]
  },
  {
   "cell_type": "code",
   "execution_count": 24,
   "id": "ba332063",
   "metadata": {},
   "outputs": [
    {
     "data": {
      "text/plain": [
       "Day               0\n",
       "Month             0\n",
       "Time              0\n",
       "Latitude(ÂºN)     0\n",
       "Longitude(ÂºE)    0\n",
       "City              0\n",
       "Province          0\n",
       "Zip Code          0\n",
       "dtype: int64"
      ]
     },
     "execution_count": 24,
     "metadata": {},
     "output_type": "execute_result"
    }
   ],
   "source": [
    "X_train.isnull().sum()  #check x_train for null values"
   ]
  },
  {
   "cell_type": "code",
   "execution_count": 25,
   "id": "de17da54",
   "metadata": {},
   "outputs": [
    {
     "data": {
      "text/plain": [
       "0"
      ]
     },
     "execution_count": 25,
     "metadata": {},
     "output_type": "execute_result"
    }
   ],
   "source": [
    "y_train.isnull().sum()  #check y_train for null values"
   ]
  },
  {
   "cell_type": "code",
   "execution_count": 26,
   "id": "94b024e0",
   "metadata": {},
   "outputs": [
    {
     "data": {
      "text/plain": [
       "Day               0\n",
       "Month             0\n",
       "Time              0\n",
       "Latitude(ÂºN)     0\n",
       "Longitude(ÂºE)    0\n",
       "City              0\n",
       "Province          0\n",
       "Zip Code          0\n",
       "dtype: int64"
      ]
     },
     "execution_count": 26,
     "metadata": {},
     "output_type": "execute_result"
    }
   ],
   "source": [
    "X_test.isnull().sum()  #check x_test for null values"
   ]
  },
  {
   "cell_type": "code",
   "execution_count": 27,
   "id": "6c7294b9",
   "metadata": {},
   "outputs": [
    {
     "data": {
      "text/plain": [
       "0"
      ]
     },
     "execution_count": 27,
     "metadata": {},
     "output_type": "execute_result"
    }
   ],
   "source": [
    "y_test.isnull().sum()  #check y_test for null values"
   ]
  },
  {
   "cell_type": "code",
   "execution_count": 35,
   "id": "2e9af9e9",
   "metadata": {},
   "outputs": [],
   "source": [
    "#import libraries to build the gradient boosting and fit the model\n",
    "from sklearn.metrics import accuracy_score\n",
    "from sklearn.ensemble import GradientBoostingClassifier\n",
    "\n",
    "gb_classifier = GradientBoostingClassifier(n_estimators=50, learning_rate=0.1, max_depth=3,random_state=0)\n",
    "gb_classifier.fit(X_train, y_train)\n",
    "\n",
    "#make predictions and store data for later\n",
    "y_pred_gb = gb_classifier.predict(X_test)\n",
    "\n",
    "#get the accuracy score\n",
    "acc_gb = round(accuracy_score(y_test,y_pred_gb)*100,2)"
   ]
  },
  {
   "cell_type": "code",
   "execution_count": 29,
   "id": "260bf7cf",
   "metadata": {},
   "outputs": [],
   "source": [
    "#import libraries to build the decision tree model and fit the model\n",
    "from sklearn.tree import DecisionTreeClassifier\n",
    "\n",
    "dt_classifier = DecisionTreeClassifier()\n",
    "dt_classifier.fit(X_train, y_train)\n",
    "\n",
    "#make predictions and store data for later\n",
    "y_pred_dt = dt_classifier.predict(X_test)\n",
    "\n",
    "#get the accuracy score\n",
    "acc_dt = round(accuracy_score(y_test,y_pred_dt)*100,2)"
   ]
  },
  {
   "cell_type": "code",
   "execution_count": 30,
   "id": "f52c6722",
   "metadata": {},
   "outputs": [],
   "source": [
    "#import libraries to build the knn model and fit in the train data\n",
    "from sklearn.neighbors import KNeighborsClassifier\n",
    "\n",
    "knn = KNeighborsClassifier(n_neighbors = 3) \n",
    "knn.fit(X_train, y_train)\n",
    "\n",
    "#make predictions and store data for later\n",
    "y_pred_knn = knn.predict(X_test) \n",
    "\n",
    "#get the accuracy score\n",
    "acc_knn = round(accuracy_score(y_test,y_pred_knn)*100,2)"
   ]
  },
  {
   "cell_type": "code",
   "execution_count": 31,
   "id": "9b3efe85",
   "metadata": {},
   "outputs": [],
   "source": [
    "#import libraries to build the random forest model and fit in the train data\n",
    "from sklearn.ensemble import RandomForestClassifier\n",
    "\n",
    "rf = RandomForestClassifier(n_estimators=100)\n",
    "rf.fit(X_train, y_train)\n",
    "\n",
    "#make predictions and store data for later\n",
    "y_pred_rf = rf.predict(X_test)\n",
    "\n",
    "#get the accuracy score\n",
    "acc_rf = round(accuracy_score(y_test,y_pred_rf)*100,2)"
   ]
  },
  {
   "cell_type": "code",
   "execution_count": 32,
   "id": "a5af5c19",
   "metadata": {},
   "outputs": [],
   "source": [
    "#import libraries to build the Naive Bayes model and fit in the train data\n",
    "from sklearn.naive_bayes import GaussianNB\n",
    "\n",
    "gnb = GaussianNB() \n",
    "gnb.fit(X_train, y_train)  \n",
    "\n",
    "#make predictions and store data for later\n",
    "y_pred_gnb = gnb.predict(X_test)  \n",
    "\n",
    "#get the accuracy score\n",
    "acc_gnb = round(accuracy_score(y_test,y_pred_gnb)*100,2)"
   ]
  },
  {
   "cell_type": "code",
   "execution_count": 39,
   "id": "a7aed0fc",
   "metadata": {},
   "outputs": [],
   "source": [
    "#import libraries for SVM\n",
    "from sklearn.svm import SVC\n",
    "\n",
    "svm_classifier = SVC(C=100,kernel='rbf',gamma=1)     \n",
    "svm_classifier.fit(X_train,y_train)\n",
    "\n",
    "#make predictions and store data for later\n",
    "y_pred_svm = svm_classifier.predict(X_test)\n",
    "\n",
    "#get the accuracy score\n",
    "acc_svm = round(accuracy_score(y_test,y_pred_svm)*100,2)"
   ]
  },
  {
   "cell_type": "code",
   "execution_count": 38,
   "id": "7b005233",
   "metadata": {},
   "outputs": [],
   "source": [
    "#import libraries for SVM\n",
    "from sklearn.ensemble import AdaBoostClassifier\n",
    "\n",
    "ada_boost = AdaBoostClassifier()     \n",
    "ada_boost.fit(X_train,y_train)\n",
    "\n",
    "#make predictions and store data for later\n",
    "y_pred_ada = ada_boost.predict(X_test)\n",
    "\n",
    "#get the accuracy score\n",
    "acc_ada = round(accuracy_score(y_test,y_pred_ada)*100,2)"
   ]
  },
  {
   "cell_type": "code",
   "execution_count": 46,
   "id": "66b4ff51",
   "metadata": {},
   "outputs": [],
   "source": [
    "#import libraries for SVM\n",
    "from sklearn.ensemble import BaggingClassifier\n",
    "\n",
    "bg = BaggingClassifier()     \n",
    "bg.fit(X_train,y_train)\n",
    "\n",
    "#make predictions and store data for later\n",
    "y_pred_bg = bg.predict(X_test)\n",
    "\n",
    "#get the accuracy score\n",
    "acc_bg = round(accuracy_score(y_test,y_pred_bg)*100,2)"
   ]
  },
  {
   "cell_type": "code",
   "execution_count": 45,
   "id": "60a73005",
   "metadata": {},
   "outputs": [],
   "source": [
    "#import libraries for SVM\n",
    "from sklearn.ensemble import ExtraTreesClassifier\n",
    "\n",
    "etc = ExtraTreesClassifier()     \n",
    "etc.fit(X_train,y_train)\n",
    "\n",
    "#make predictions and store data for later\n",
    "y_pred_etc = etc.predict(X_test)\n",
    "\n",
    "#get the accuracy score\n",
    "acc_etc = round(accuracy_score(y_test,y_pred_etc)*100,2)"
   ]
  },
  {
   "cell_type": "code",
   "execution_count": 49,
   "id": "695fe966",
   "metadata": {},
   "outputs": [],
   "source": [
    "#import libraries for SVM\n",
    "from sklearn.ensemble import HistGradientBoostingClassifier\n",
    "\n",
    "hgb = HistGradientBoostingClassifier()     \n",
    "hgb.fit(X_train,y_train)\n",
    "\n",
    "#make predictions and store data for later\n",
    "y_pred_hgb = hgb.predict(X_test)\n",
    "\n",
    "#get the accuracy score\n",
    "acc_hgb = round(accuracy_score(y_test,y_pred_hgb)*100,2)"
   ]
  },
  {
   "cell_type": "code",
   "execution_count": 55,
   "id": "21dcd6d2",
   "metadata": {},
   "outputs": [
    {
     "name": "stderr",
     "output_type": "stream",
     "text": [
      "C:\\Users\\windows 11\\anaconda3\\Lib\\site-packages\\sklearn\\neural_network\\_multilayer_perceptron.py:686: ConvergenceWarning: Stochastic Optimizer: Maximum iterations (200) reached and the optimization hasn't converged yet.\n",
      "  warnings.warn(\n"
     ]
    }
   ],
   "source": [
    "#import libraries for SVM\n",
    "from sklearn.neural_network import MLPClassifier\n",
    "\n",
    "mlpc = MLPClassifier()     \n",
    "mlpc.fit(X_train,y_train)\n",
    "\n",
    "#make predictions and store data for later\n",
    "y_pred_mlpc = mlpc.predict(X_test)\n",
    "\n",
    "#get the accuracy score\n",
    "acc_mlpc = round(accuracy_score(y_test,y_pred_mlpc)*100,2)"
   ]
  },
  {
   "cell_type": "code",
   "execution_count": 57,
   "id": "df6ec923",
   "metadata": {},
   "outputs": [],
   "source": [
    "#import libraries to build the Naive Bayes model and fit in the train data\n",
    "from sklearn.naive_bayes import BernoulliNB\n",
    "\n",
    "bnb = BernoulliNB() \n",
    "bnb.fit(X_train, y_train)  \n",
    "\n",
    "#make predictions and store data for later\n",
    "y_pred_bnb = bnb.predict(X_test)  \n",
    "\n",
    "#get the accuracy score\n",
    "acc_bnb = round(accuracy_score(y_test,y_pred_bnb)*100,2)"
   ]
  },
  {
   "cell_type": "code",
   "execution_count": 62,
   "id": "d95e7f1a",
   "metadata": {},
   "outputs": [],
   "source": [
    "#import libraries to build the Naive Bayes model and fit in the train data\n",
    "from sklearn.tree import ExtraTreeClassifier\n",
    "\n",
    "ext = ExtraTreeClassifier() \n",
    "ext.fit(X_train, y_train)  \n",
    "\n",
    "#make predictions and store data for later\n",
    "y_pred_ext = ext.predict(X_test)  \n",
    "\n",
    "#get the accuracy score\n",
    "acc_ext = round(accuracy_score(y_test,y_pred_ext)*100,2)"
   ]
  },
  {
   "cell_type": "code",
   "execution_count": 64,
   "id": "61618f34",
   "metadata": {},
   "outputs": [],
   "source": [
    "from sklearn.dummy import DummyClassifier\n",
    "\n",
    "dc = DummyClassifier(strategy='most_frequent')\n",
    "dc.fit(X_train, y_train)\n",
    "\n",
    "#make predictions and store data for later\n",
    "y_pred_dc = dc.predict(X_test)  \n",
    "\n",
    "#get the accuracy score\n",
    "acc_dc = round(accuracy_score(y_test,y_pred_dc)*100,2)"
   ]
  },
  {
   "cell_type": "code",
   "execution_count": 65,
   "id": "8380b741",
   "metadata": {},
   "outputs": [
    {
     "data": {
      "text/html": [
       "<div>\n",
       "<style scoped>\n",
       "    .dataframe tbody tr th:only-of-type {\n",
       "        vertical-align: middle;\n",
       "    }\n",
       "\n",
       "    .dataframe tbody tr th {\n",
       "        vertical-align: top;\n",
       "    }\n",
       "\n",
       "    .dataframe thead th {\n",
       "        text-align: right;\n",
       "    }\n",
       "</style>\n",
       "<table border=\"1\" class=\"dataframe\">\n",
       "  <thead>\n",
       "    <tr style=\"text-align: right;\">\n",
       "      <th></th>\n",
       "      <th>Model</th>\n",
       "    </tr>\n",
       "    <tr>\n",
       "      <th>Score</th>\n",
       "      <th></th>\n",
       "    </tr>\n",
       "  </thead>\n",
       "  <tbody>\n",
       "    <tr>\n",
       "      <th>80.50</th>\n",
       "      <td>MLPC Classifier</td>\n",
       "    </tr>\n",
       "    <tr>\n",
       "      <th>80.23</th>\n",
       "      <td>Random Forest</td>\n",
       "    </tr>\n",
       "    <tr>\n",
       "      <th>80.06</th>\n",
       "      <td>Gradient Boosting</td>\n",
       "    </tr>\n",
       "    <tr>\n",
       "      <th>79.74</th>\n",
       "      <td>Ada Boost</td>\n",
       "    </tr>\n",
       "    <tr>\n",
       "      <th>79.04</th>\n",
       "      <td>Naive Bayes</td>\n",
       "    </tr>\n",
       "    <tr>\n",
       "      <th>79.04</th>\n",
       "      <td>Bernoulli NB</td>\n",
       "    </tr>\n",
       "    <tr>\n",
       "      <th>79.04</th>\n",
       "      <td>Dummy Classifier</td>\n",
       "    </tr>\n",
       "    <tr>\n",
       "      <th>78.61</th>\n",
       "      <td>Bagging Classifier</td>\n",
       "    </tr>\n",
       "    <tr>\n",
       "      <th>77.90</th>\n",
       "      <td>Extra Trees</td>\n",
       "    </tr>\n",
       "    <tr>\n",
       "      <th>76.93</th>\n",
       "      <td>K Nearest Neighbors</td>\n",
       "    </tr>\n",
       "    <tr>\n",
       "      <th>72.88</th>\n",
       "      <td>Support Vector Machine</td>\n",
       "    </tr>\n",
       "    <tr>\n",
       "      <th>70.39</th>\n",
       "      <td>Decision Tree</td>\n",
       "    </tr>\n",
       "    <tr>\n",
       "      <th>70.07</th>\n",
       "      <td>Extra Tree Classifier</td>\n",
       "    </tr>\n",
       "    <tr>\n",
       "      <th>68.45</th>\n",
       "      <td>Hist Gradient Boosting</td>\n",
       "    </tr>\n",
       "  </tbody>\n",
       "</table>\n",
       "</div>"
      ],
      "text/plain": [
       "                        Model\n",
       "Score                        \n",
       "80.50         MLPC Classifier\n",
       "80.23           Random Forest\n",
       "80.06       Gradient Boosting\n",
       "79.74               Ada Boost\n",
       "79.04             Naive Bayes\n",
       "79.04            Bernoulli NB\n",
       "79.04        Dummy Classifier\n",
       "78.61      Bagging Classifier\n",
       "77.90             Extra Trees\n",
       "76.93     K Nearest Neighbors\n",
       "72.88  Support Vector Machine\n",
       "70.39           Decision Tree\n",
       "70.07   Extra Tree Classifier\n",
       "68.45  Hist Gradient Boosting"
      ]
     },
     "execution_count": 65,
     "metadata": {},
     "output_type": "execute_result"
    }
   ],
   "source": [
    "#display the accuracy results\n",
    "results = pd.DataFrame({\n",
    "    'Model': ['Gradient Boosting','Decision Tree', 'K Nearest Neighbors', \n",
    "              'Random Forest', 'Naive Bayes','Support Vector Machine', 'Ada Boost', \n",
    "              'Bagging Classifier', 'Extra Trees', 'Hist Gradient Boosting',\n",
    "              'MLPC Classifier', 'Bernoulli NB', 'Extra Tree Classifier', 'Dummy Classifier'],\n",
    "    'Score': [acc_gb, acc_dt, acc_knn, \n",
    "              acc_rf, acc_gnb, acc_svm, acc_ada, acc_bg, acc_etc, acc_hgb, acc_mlpc, acc_bnb, acc_ext, acc_dc]})\n",
    "result_df = results.sort_values(by='Score', ascending=False)\n",
    "result_df = result_df.set_index('Score')\n",
    "result_df"
   ]
  },
  {
   "cell_type": "markdown",
   "id": "ae61aed3",
   "metadata": {},
   "source": [
    "Due to Random Forest having the highest accuracy, we will choose this as our main classifier model."
   ]
  },
  {
   "cell_type": "code",
   "execution_count": 72,
   "id": "15e079f7",
   "metadata": {},
   "outputs": [
    {
     "data": {
      "text/plain": [
       "0.8049702863317126"
      ]
     },
     "execution_count": 72,
     "metadata": {},
     "output_type": "execute_result"
    }
   ],
   "source": [
    "mlpc.score(X_test, y_test)"
   ]
  },
  {
   "cell_type": "code",
   "execution_count": 37,
   "id": "d58c5145",
   "metadata": {},
   "outputs": [
    {
     "data": {
      "text/plain": [
       "array([0, 0, 0, ..., 0, 0, 0], dtype=int64)"
      ]
     },
     "execution_count": 37,
     "metadata": {},
     "output_type": "execute_result"
    }
   ],
   "source": [
    "y_pred_gb  #display prediction"
   ]
  },
  {
   "cell_type": "code",
   "execution_count": 38,
   "id": "1b764d79",
   "metadata": {},
   "outputs": [
    {
     "data": {
      "text/plain": [
       "5083    0\n",
       "3847    2\n",
       "4528    0\n",
       "2526    0\n",
       "5349    0\n",
       "       ..\n",
       "3807    0\n",
       "6100    2\n",
       "440     0\n",
       "2689    1\n",
       "4999    0\n",
       "Name: Richter Category, Length: 1851, dtype: int64"
      ]
     },
     "execution_count": 38,
     "metadata": {},
     "output_type": "execute_result"
    }
   ],
   "source": [
    "y_test  #display actual values"
   ]
  },
  {
   "cell_type": "code",
   "execution_count": 39,
   "id": "aa3032f6",
   "metadata": {},
   "outputs": [
    {
     "name": "stdout",
     "output_type": "stream",
     "text": [
      "0.5421210121257269\n"
     ]
    }
   ],
   "source": [
    "#import libraries for root-mean-square error\n",
    "import numpy as np\n",
    "from sklearn import metrics\n",
    "from sklearn.metrics import mean_squared_error\n",
    "import math\n",
    "\n",
    "#display the root-mean-square error\n",
    "MSE=np.square(np.subtract(y_test,y_pred_rf)).mean()\n",
    "RMSE = (math.sqrt(MSE)) \n",
    "print(RMSE)"
   ]
  },
  {
   "cell_type": "code",
   "execution_count": 40,
   "id": "a3f54b7f",
   "metadata": {},
   "outputs": [
    {
     "name": "stdout",
     "output_type": "stream",
     "text": [
      "Confusion Matrix : \n",
      " [[1419   42    2    0]\n",
      " [ 256   62    4    0]\n",
      " [  42   11    4    2]\n",
      " [   5    2    0    0]]\n"
     ]
    }
   ],
   "source": [
    "#import libraries for confusion matrix\n",
    "from sklearn.metrics import confusion_matrix\n",
    "cm = confusion_matrix(y_test, y_pred_rf) \n",
    "\n",
    "print (\"Confusion Matrix : \\n\", cm)  #display confusion matrix of multi class classification"
   ]
  },
  {
   "cell_type": "code",
   "execution_count": 41,
   "id": "84297aea",
   "metadata": {},
   "outputs": [
    {
     "data": {
      "text/plain": [
       "<Axes: xlabel='Predicted Values', ylabel='Actual Values'>"
      ]
     },
     "execution_count": 41,
     "metadata": {},
     "output_type": "execute_result"
    },
    {
     "data": {
      "image/png": "[encoded data removed]",
      "text/plain": [
       "<Figure size 640x480 with 2 Axes>"
      ]
     },
     "metadata": {},
     "output_type": "display_data"
    }
   ],
   "source": [
    "import seaborn as sns  #import package for plotting\n",
    "\n",
    "#confusion matrix\n",
    "cm = pd.crosstab(y_test, y_pred_rf, rownames=['Actual Values'], colnames=['Predicted Values'])\n",
    "sns.heatmap(cm, annot=True)"
   ]
  },
  {
   "cell_type": "markdown",
   "id": "271804e5",
   "metadata": {},
   "source": [
    "# Parameter Tuning"
   ]
  },
  {
   "cell_type": "code",
   "execution_count": 43,
   "id": "7c95cc07",
   "metadata": {},
   "outputs": [],
   "source": [
    "from sklearn.model_selection import GridSearchCV\n",
    "from time import time\n"
   ]
  },
  {
   "cell_type": "code",
   "execution_count": null,
   "id": "370d4f2c",
   "metadata": {},
   "outputs": [],
   "source": []
  },
  {
   "cell_type": "code",
   "execution_count": null,
   "id": "a251233e",
   "metadata": {},
   "outputs": [],
   "source": []
  }
 ],
 "metadata": {
  "kernelspec": {
   "display_name": "Python 3 (ipykernel)",
   "language": "python",
   "name": "python3"
  },
  "language_info": {
   "codemirror_mode": {
    "name": "ipython",
    "version": 3
   },
   "file_extension": ".py",
   "mimetype": "text/x-python",
   "name": "python",
   "nbconvert_exporter": "python",
   "pygments_lexer": "ipython3",
   "version": "3.11.7"
  }
 },
 "nbformat": 4,
 "nbformat_minor": 5
}
